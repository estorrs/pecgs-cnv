{
 "cells": [
  {
   "cell_type": "code",
   "execution_count": 34,
   "id": "fcb4f517",
   "metadata": {},
   "outputs": [],
   "source": [
    "import os\n",
    "import re\n",
    "import pandas as pd\n",
    "import yaml\n",
    "\n",
    "import wombat.bsub as bsub"
   ]
  },
  {
   "cell_type": "code",
   "execution_count": 35,
   "id": "69178db8",
   "metadata": {
    "scrolled": true
   },
   "outputs": [],
   "source": [
    "# !pip install git+https://github.com/estorrs/wombat.git"
   ]
  },
  {
   "cell_type": "code",
   "execution_count": 36,
   "id": "fc4d9a62",
   "metadata": {},
   "outputs": [],
   "source": [
    "# !pip uninstall wombat -y"
   ]
  },
  {
   "cell_type": "markdown",
   "id": "cbfa91e8",
   "metadata": {},
   "source": [
    "###### grab data from cptac bammap"
   ]
  },
  {
   "cell_type": "code",
   "execution_count": 37,
   "id": "1f4e7a09",
   "metadata": {},
   "outputs": [],
   "source": [
    "# df = pd.read_csv('/home/estorrs/CPTAC3.catalog/BamMap/storage1.BamMap.dat', sep='\\t', index_col=0)\n",
    "# df = df[df['experimental_strategy']=='WXS']\n",
    "# df = df[df['sample_type']=='blood_normal']\n",
    "# df = df[df['reference']=='hg38']\n",
    "# df"
   ]
  },
  {
   "cell_type": "code",
   "execution_count": 81,
   "id": "c1f519bf",
   "metadata": {},
   "outputs": [
    {
     "data": {
      "text/html": [
       "<div>\n",
       "<style scoped>\n",
       "    .dataframe tbody tr th:only-of-type {\n",
       "        vertical-align: middle;\n",
       "    }\n",
       "\n",
       "    .dataframe tbody tr th {\n",
       "        vertical-align: top;\n",
       "    }\n",
       "\n",
       "    .dataframe thead th {\n",
       "        text-align: right;\n",
       "    }\n",
       "</style>\n",
       "<table border=\"1\" class=\"dataframe\">\n",
       "  <thead>\n",
       "    <tr style=\"text-align: right;\">\n",
       "      <th></th>\n",
       "      <th>case_id</th>\n",
       "      <th>step</th>\n",
       "      <th>filetype</th>\n",
       "      <th>filepath</th>\n",
       "    </tr>\n",
       "  </thead>\n",
       "  <tbody>\n",
       "    <tr>\n",
       "      <th>0</th>\n",
       "      <td>PE001C1</td>\n",
       "      <td>align_tumor_wxs</td>\n",
       "      <td>tumor_wxs_output_bam</td>\n",
       "      <td>/storage1/fs1/dinglab/Active/Projects/PECGS/PE...</td>\n",
       "    </tr>\n",
       "    <tr>\n",
       "      <th>2</th>\n",
       "      <td>PE002C1</td>\n",
       "      <td>align_tumor_wxs</td>\n",
       "      <td>tumor_wxs_output_bam</td>\n",
       "      <td>/storage1/fs1/dinglab/Active/Projects/PECGS/PE...</td>\n",
       "    </tr>\n",
       "    <tr>\n",
       "      <th>4</th>\n",
       "      <td>PE0038U1</td>\n",
       "      <td>align_tumor_wxs</td>\n",
       "      <td>tumor_wxs_output_bam</td>\n",
       "      <td>/storage1/fs1/dinglab/Active/Projects/PECGS/PE...</td>\n",
       "    </tr>\n",
       "    <tr>\n",
       "      <th>6</th>\n",
       "      <td>PE003C1</td>\n",
       "      <td>align_tumor_wxs</td>\n",
       "      <td>tumor_wxs_output_bam</td>\n",
       "      <td>/storage1/fs1/dinglab/Active/Projects/PECGS/PE...</td>\n",
       "    </tr>\n",
       "    <tr>\n",
       "      <th>8</th>\n",
       "      <td>PE0043A</td>\n",
       "      <td>align_tumor_wxs</td>\n",
       "      <td>tumor_wxs_output_bam</td>\n",
       "      <td>/storage1/fs1/dinglab/Active/Projects/PECGS/PE...</td>\n",
       "    </tr>\n",
       "    <tr>\n",
       "      <th>10</th>\n",
       "      <td>PE005A1</td>\n",
       "      <td>align_tumor_wxs</td>\n",
       "      <td>tumor_wxs_output_bam</td>\n",
       "      <td>/storage1/fs1/dinglab/Active/Projects/PECGS/PE...</td>\n",
       "    </tr>\n",
       "    <tr>\n",
       "      <th>12</th>\n",
       "      <td>PE0078U1</td>\n",
       "      <td>align_tumor_wxs</td>\n",
       "      <td>tumor_wxs_output_bam</td>\n",
       "      <td>/storage1/fs1/dinglab/Active/Projects/PECGS/PE...</td>\n",
       "    </tr>\n",
       "    <tr>\n",
       "      <th>14</th>\n",
       "      <td>PEx011U1</td>\n",
       "      <td>align_tumor_wxs</td>\n",
       "      <td>tumor_wxs_output_bam</td>\n",
       "      <td>/storage1/fs1/dinglab/Active/Projects/PECGS/PE...</td>\n",
       "    </tr>\n",
       "    <tr>\n",
       "      <th>16</th>\n",
       "      <td>PEx012U1</td>\n",
       "      <td>align_tumor_wxs</td>\n",
       "      <td>tumor_wxs_output_bam</td>\n",
       "      <td>/storage1/fs1/dinglab/Active/Projects/PECGS/PE...</td>\n",
       "    </tr>\n",
       "  </tbody>\n",
       "</table>\n",
       "</div>"
      ],
      "text/plain": [
       "     case_id             step              filetype  \\\n",
       "0    PE001C1  align_tumor_wxs  tumor_wxs_output_bam   \n",
       "2    PE002C1  align_tumor_wxs  tumor_wxs_output_bam   \n",
       "4   PE0038U1  align_tumor_wxs  tumor_wxs_output_bam   \n",
       "6    PE003C1  align_tumor_wxs  tumor_wxs_output_bam   \n",
       "8    PE0043A  align_tumor_wxs  tumor_wxs_output_bam   \n",
       "10   PE005A1  align_tumor_wxs  tumor_wxs_output_bam   \n",
       "12  PE0078U1  align_tumor_wxs  tumor_wxs_output_bam   \n",
       "14  PEx011U1  align_tumor_wxs  tumor_wxs_output_bam   \n",
       "16  PEx012U1  align_tumor_wxs  tumor_wxs_output_bam   \n",
       "\n",
       "                                             filepath  \n",
       "0   /storage1/fs1/dinglab/Active/Projects/PECGS/PE...  \n",
       "2   /storage1/fs1/dinglab/Active/Projects/PECGS/PE...  \n",
       "4   /storage1/fs1/dinglab/Active/Projects/PECGS/PE...  \n",
       "6   /storage1/fs1/dinglab/Active/Projects/PECGS/PE...  \n",
       "8   /storage1/fs1/dinglab/Active/Projects/PECGS/PE...  \n",
       "10  /storage1/fs1/dinglab/Active/Projects/PECGS/PE...  \n",
       "12  /storage1/fs1/dinglab/Active/Projects/PECGS/PE...  \n",
       "14  /storage1/fs1/dinglab/Active/Projects/PECGS/PE...  \n",
       "16  /storage1/fs1/dinglab/Active/Projects/PECGS/PE...  "
      ]
     },
     "execution_count": 81,
     "metadata": {},
     "output_type": "execute_result"
    }
   ],
   "source": [
    "df = pd.read_csv('/diskmnt/Projects/Users/estorrs/pecgs-cnv/data/pecgs_analysis_summary.txt', sep='\\t', header=None)\n",
    "df = df.iloc[:, [0, 1, 2, 3]]\n",
    "df.columns = ['case_id', 'step', 'filetype', 'filepath']\n",
    "df = df[df['step']=='align_tumor_wxs']\n",
    "df"
   ]
  },
  {
   "cell_type": "code",
   "execution_count": 82,
   "id": "0a30e182",
   "metadata": {},
   "outputs": [
    {
     "data": {
      "text/html": [
       "<div>\n",
       "<style scoped>\n",
       "    .dataframe tbody tr th:only-of-type {\n",
       "        vertical-align: middle;\n",
       "    }\n",
       "\n",
       "    .dataframe tbody tr th {\n",
       "        vertical-align: top;\n",
       "    }\n",
       "\n",
       "    .dataframe thead th {\n",
       "        text-align: right;\n",
       "    }\n",
       "</style>\n",
       "<table border=\"1\" class=\"dataframe\">\n",
       "  <thead>\n",
       "    <tr style=\"text-align: right;\">\n",
       "      <th></th>\n",
       "      <th>case_id</th>\n",
       "      <th>step</th>\n",
       "      <th>filetype</th>\n",
       "      <th>filepath</th>\n",
       "    </tr>\n",
       "  </thead>\n",
       "  <tbody>\n",
       "    <tr>\n",
       "      <th>0</th>\n",
       "      <td>PE001C1</td>\n",
       "      <td>align_tumor_wxs</td>\n",
       "      <td>tumor_wxs_output_bam</td>\n",
       "      <td>/storage1/fs1/dinglab/Active/Projects/PECGS/PE...</td>\n",
       "    </tr>\n",
       "    <tr>\n",
       "      <th>2</th>\n",
       "      <td>PE002C1</td>\n",
       "      <td>align_tumor_wxs</td>\n",
       "      <td>tumor_wxs_output_bam</td>\n",
       "      <td>/storage1/fs1/dinglab/Active/Projects/PECGS/PE...</td>\n",
       "    </tr>\n",
       "    <tr>\n",
       "      <th>6</th>\n",
       "      <td>PE003C1</td>\n",
       "      <td>align_tumor_wxs</td>\n",
       "      <td>tumor_wxs_output_bam</td>\n",
       "      <td>/storage1/fs1/dinglab/Active/Projects/PECGS/PE...</td>\n",
       "    </tr>\n",
       "    <tr>\n",
       "      <th>8</th>\n",
       "      <td>PE0043A</td>\n",
       "      <td>align_tumor_wxs</td>\n",
       "      <td>tumor_wxs_output_bam</td>\n",
       "      <td>/storage1/fs1/dinglab/Active/Projects/PECGS/PE...</td>\n",
       "    </tr>\n",
       "    <tr>\n",
       "      <th>10</th>\n",
       "      <td>PE005A1</td>\n",
       "      <td>align_tumor_wxs</td>\n",
       "      <td>tumor_wxs_output_bam</td>\n",
       "      <td>/storage1/fs1/dinglab/Active/Projects/PECGS/PE...</td>\n",
       "    </tr>\n",
       "    <tr>\n",
       "      <th>12</th>\n",
       "      <td>PE0078U1</td>\n",
       "      <td>align_tumor_wxs</td>\n",
       "      <td>tumor_wxs_output_bam</td>\n",
       "      <td>/storage1/fs1/dinglab/Active/Projects/PECGS/PE...</td>\n",
       "    </tr>\n",
       "    <tr>\n",
       "      <th>14</th>\n",
       "      <td>PEx011U1</td>\n",
       "      <td>align_tumor_wxs</td>\n",
       "      <td>tumor_wxs_output_bam</td>\n",
       "      <td>/storage1/fs1/dinglab/Active/Projects/PECGS/PE...</td>\n",
       "    </tr>\n",
       "    <tr>\n",
       "      <th>16</th>\n",
       "      <td>PEx012U1</td>\n",
       "      <td>align_tumor_wxs</td>\n",
       "      <td>tumor_wxs_output_bam</td>\n",
       "      <td>/storage1/fs1/dinglab/Active/Projects/PECGS/PE...</td>\n",
       "    </tr>\n",
       "  </tbody>\n",
       "</table>\n",
       "</div>"
      ],
      "text/plain": [
       "     case_id             step              filetype  \\\n",
       "0    PE001C1  align_tumor_wxs  tumor_wxs_output_bam   \n",
       "2    PE002C1  align_tumor_wxs  tumor_wxs_output_bam   \n",
       "6    PE003C1  align_tumor_wxs  tumor_wxs_output_bam   \n",
       "8    PE0043A  align_tumor_wxs  tumor_wxs_output_bam   \n",
       "10   PE005A1  align_tumor_wxs  tumor_wxs_output_bam   \n",
       "12  PE0078U1  align_tumor_wxs  tumor_wxs_output_bam   \n",
       "14  PEx011U1  align_tumor_wxs  tumor_wxs_output_bam   \n",
       "16  PEx012U1  align_tumor_wxs  tumor_wxs_output_bam   \n",
       "\n",
       "                                             filepath  \n",
       "0   /storage1/fs1/dinglab/Active/Projects/PECGS/PE...  \n",
       "2   /storage1/fs1/dinglab/Active/Projects/PECGS/PE...  \n",
       "6   /storage1/fs1/dinglab/Active/Projects/PECGS/PE...  \n",
       "8   /storage1/fs1/dinglab/Active/Projects/PECGS/PE...  \n",
       "10  /storage1/fs1/dinglab/Active/Projects/PECGS/PE...  \n",
       "12  /storage1/fs1/dinglab/Active/Projects/PECGS/PE...  \n",
       "14  /storage1/fs1/dinglab/Active/Projects/PECGS/PE...  \n",
       "16  /storage1/fs1/dinglab/Active/Projects/PECGS/PE...  "
      ]
     },
     "execution_count": 82,
     "metadata": {},
     "output_type": "execute_result"
    }
   ],
   "source": [
    "df = df.iloc[[i for i in range(df.shape[0]) if i!=2]]\n",
    "df"
   ]
  },
  {
   "cell_type": "code",
   "execution_count": 83,
   "id": "94de93cb",
   "metadata": {},
   "outputs": [
    {
     "data": {
      "text/plain": [
       "'/storage1/fs1/dinglab/Active/Projects/PECGS/PECGS_analysis/pecgs_batch1/runs/PE001C1_1c32a190-745c-421b-9f2b-eee3ea6e9e81/cromwell-workdir/cromwell-executions/pecgs_TN_wxs_fq.cwl/877c6c49-90a7-40af-8330-b81027660cdc/call-align_tumor_wxs/execution/output.bam'"
      ]
     },
     "execution_count": 83,
     "metadata": {},
     "output_type": "execute_result"
    }
   ],
   "source": [
    "df['filepath'][0]"
   ]
  },
  {
   "cell_type": "code",
   "execution_count": null,
   "id": "e2146592",
   "metadata": {},
   "outputs": [],
   "source": []
  },
  {
   "cell_type": "code",
   "execution_count": 84,
   "id": "5d3b720c",
   "metadata": {},
   "outputs": [],
   "source": [
    "# GENOME=/storage1/fs1/dinglab/Active/Projects/austins2/references/GRCh38.d1.vd1/GRCh38.d1.vd1.fa\n",
    "# GENOME_DICT=/storage1/fs1/dinglab/Active/Projects/austins2/references/GRCh38.d1.vd1/GRCh38.d1.vd1.dict\n",
    "\n",
    "\n",
    "# # Target\n",
    "# TargetIntervalList=/code/db/IDT_xGen_Exome_Research_Panel_v1.hg38.removed_alt_chr.bed.target.preprocessed.exome.interval_list\n",
    "\n",
    "\n",
    "# # SNP database\n",
    "# COMMON_BIALLELIC=/code/db/snp_database/af-only-gnomad.hg38.common_biallelic.chr1-22XY.vcf\n",
    "\n",
    "\n",
    "# # protein coding genes\n",
    "# ProteinCodingGene=/code/db/remaking_protein-coding/gencode.v34.annotation.gene_filterd.need_gene_symbol.no_sym.filtered_to_hgnc_protein-coding_genes.bed\n"
   ]
  },
  {
   "cell_type": "code",
   "execution_count": 85,
   "id": "c4a73e67",
   "metadata": {},
   "outputs": [],
   "source": [
    "genome = '/storage1/fs1/dinglab/Active/Projects/estorrs/pecgs_resources/cnv/references/GRCh38.d1.vd1/GRCh38.d1.vd1.fa'\n",
    "genome_dict = '/storage1/fs1/dinglab/Active/Projects/estorrs/pecgs_resources/cnv/references/GRCh38.d1.vd1/GRCh38.d1.vd1.dict'\n",
    "target_interval_list = '/storage1/fs1/dinglab/Active/Projects/estorrs/pecgs_resources/cnv/db/IDT_xGen_Exome_Research_Panel_v1.hg38.removed_alt_chr.autosome_only.bed.preprocessed.exome.interval_list'\n",
    "common_biallelic = '/storage1/fs1/dinglab/Active/Projects/estorrs/pecgs_resources/cnv/db/snp_database/af-only-gnomad.hg38.common_biallelic.chr1-22XY.vcf'\n",
    "protein_coding_gene = '/storage1/fs1/dinglab/Active/Projects/estorrs/pecgs_resources/cnv/db/gencode.v34.annotation.gene_filtered.protein_coding.ensembl_ID_no_version.protein-coding_hgnc_filtered.duplicates_removed.ensembl_ID_removed.txt'\n",
    "cytoband = '/storage1/fs1/dinglab/Active/Projects/estorrs/pecgs_resources/cnv/db/cytoBand.txt'\n",
    "\n",
    "\n",
    "\n",
    "\n",
    "\n"
   ]
  },
  {
   "cell_type": "code",
   "execution_count": 86,
   "id": "b07f218f",
   "metadata": {},
   "outputs": [],
   "source": [
    "pon_out_dir = '/storage1/fs1/dinglab/Active/Projects/estorrs/pecgs_resources/cnv/pon/pecgs_pon_v1'"
   ]
  },
  {
   "cell_type": "code",
   "execution_count": 87,
   "id": "1a3c4e8d",
   "metadata": {},
   "outputs": [
    {
     "data": {
      "text/plain": [
       "{'mem': 28,\n",
       " 'n_processes': 1,\n",
       " 'max_mem': 28,\n",
       " 'docker': 'estorrs/pecgs_cnv:0.0.2',\n",
       " 'queue': 'dinglab',\n",
       " 'gpu_model': 'TeslaV100_SXM2_32GB',\n",
       " 'gpu_mem': '30',\n",
       " 'gpu_num': 1,\n",
       " 'use_gpu': False,\n",
       " 'group': 'compute-dinglab',\n",
       " 'group_name': 'pecgs-25',\n",
       " 'n_concurrent': 25,\n",
       " 'interactive': False,\n",
       " 'username': 'estorrs'}"
      ]
     },
     "execution_count": 87,
     "metadata": {},
     "output_type": "execute_result"
    }
   ],
   "source": [
    "args = bsub.DEFAULT_ARGS\n",
    "args['n_concurrent'] = 25\n",
    "args['mem'], args['max_mem'] = 28, 28\n",
    "args['docker'] = 'estorrs/pecgs_cnv:0.0.2'\n",
    "args['group_name'] = 'pecgs-25'\n",
    "args"
   ]
  },
  {
   "cell_type": "markdown",
   "id": "3acb7bfb",
   "metadata": {},
   "source": [
    "###### step 1: precall"
   ]
  },
  {
   "cell_type": "code",
   "execution_count": 88,
   "id": "3777e1e5",
   "metadata": {},
   "outputs": [],
   "source": [
    "# bash /storage1/fs1/dinglab/Active/Projects/austins2/tools/GATK4SCNA/gatk_somatic.cnv.mgi.sh -p precall -t /storage1/fs1/dinglab/Active/Projects/austins2/HTAN-BRCA/CNV/gatk4scna/bam.list -M /storage1/fs1/dinglab/Active/Projects/austins2/HTAN-BRCA/CNV/gatk4scna/normalBam.list -o /storage1/fs1/dinglab/Active/Projects/austins2/HTAN-BRCA/CNV/gatk4scna -c /storage1/fs1/dinglab/Active/Projects/austins2/tools/GATK4SCNA/config/config.gatk4scna.mgi.ini\n",
    "\n",
    "# sh $submitJob 4 1 gatk4cn.s1.${name} \"bash $scriptDir/src/1.run.gatk4scna.collectReadCounts.Normal.sh -C ${config} -N ${caseID} -T Normal -B ${normalBam} -O ${outdir}\"\n",
    "\n",
    "\n"
   ]
  },
  {
   "cell_type": "code",
   "execution_count": 89,
   "id": "65bed9cf",
   "metadata": {},
   "outputs": [],
   "source": [
    "# ${JAVA} -Dsamjdk.use_async_io_read_samtools=false \\\n",
    "#       -Dsamjdk.use_async_io_write_samtools=true \\\n",
    "#       -Dsamjdk.use_async_io_write_tribble=false \\\n",
    "#       -Dsamjdk.compression_level=2 \\\n",
    "#       -Xmx4g -jar ${GATK} CollectReadCounts \\\n",
    "#       -I ${BAM} \\\n",
    "#       -L ${TargetIntervalList} \\\n",
    "#       --interval-merging-rule OVERLAPPING_ONLY \\\n",
    "#       -O ${OUT}/${NAME}.N.counts.hdf5"
   ]
  },
  {
   "cell_type": "code",
   "execution_count": 90,
   "id": "2267144c",
   "metadata": {},
   "outputs": [],
   "source": [
    "def get_precall_command(sample, normal_fp, out_dir):\n",
    "    pieces = [\n",
    "        'gatk CollectReadCounts',\n",
    "        '-I', normal_fp,\n",
    "        '-L', target_interval_list,\n",
    "        '-interval-merging-rule OVERLAPPING_ONLY',\n",
    "        f'-O {out_dir}/{sample}.N.counts.hdf5'\n",
    "    ]\n",
    "    cmd = ' '.join(pieces)\n",
    "    return cmd\n"
   ]
  },
  {
   "cell_type": "code",
   "execution_count": 91,
   "id": "cb7db6b3",
   "metadata": {},
   "outputs": [
    {
     "data": {
      "text/plain": [
       "['export PATH=/miniconda/envs/cnv/bin:$PATH && gatk CollectReadCounts -I /storage1/fs1/dinglab/Active/Projects/PECGS/PECGS_analysis/pecgs_batch1/runs/PE001C1_1c32a190-745c-421b-9f2b-eee3ea6e9e81/cromwell-workdir/cromwell-executions/pecgs_TN_wxs_fq.cwl/877c6c49-90a7-40af-8330-b81027660cdc/call-align_tumor_wxs/execution/output.bam -L /storage1/fs1/dinglab/Active/Projects/estorrs/pecgs_resources/cnv/db/IDT_xGen_Exome_Research_Panel_v1.hg38.removed_alt_chr.autosome_only.bed.preprocessed.exome.interval_list -interval-merging-rule OVERLAPPING_ONLY -O /storage1/fs1/dinglab/Active/Projects/estorrs/pecgs_resources/cnv/pon/pecgs_pon_v1/precall/PE001C1.N.counts.hdf5',\n",
       " 'export PATH=/miniconda/envs/cnv/bin:$PATH && gatk CollectReadCounts -I /storage1/fs1/dinglab/Active/Projects/PECGS/PECGS_analysis/pecgs_batch1/runs/PE002C1_dfd8fa5c-873e-4ce8-99eb-c8e361104428/cromwell-workdir/cromwell-executions/pecgs_TN_wxs_fq.cwl/dce57945-2818-45f0-8de7-797a8f2d4dab/call-align_tumor_wxs/execution/output.bam -L /storage1/fs1/dinglab/Active/Projects/estorrs/pecgs_resources/cnv/db/IDT_xGen_Exome_Research_Panel_v1.hg38.removed_alt_chr.autosome_only.bed.preprocessed.exome.interval_list -interval-merging-rule OVERLAPPING_ONLY -O /storage1/fs1/dinglab/Active/Projects/estorrs/pecgs_resources/cnv/pon/pecgs_pon_v1/precall/PE002C1.N.counts.hdf5']"
      ]
     },
     "execution_count": 91,
     "metadata": {},
     "output_type": "execute_result"
    }
   ],
   "source": [
    "precall_out_dir = os.path.join(pon_out_dir, 'precall')\n",
    "cmds = []\n",
    "for i, row in df.iterrows():\n",
    "    cmd = f'export PATH=/miniconda/envs/cnv/bin:$PATH && ' + get_precall_command(row['case_id'], row['filepath'], precall_out_dir)\n",
    "    cmds.append(cmd)\n",
    "cmds[:2]"
   ]
  },
  {
   "cell_type": "code",
   "execution_count": 92,
   "id": "b16e6a1e",
   "metadata": {},
   "outputs": [
    {
     "data": {
      "text/plain": [
       "['mkdir -p /storage1/fs1/dinglab/Active/Projects/estorrs/pecgs_resources/cnv/pon/pecgs_pon_v1/precall/logs',\n",
       " 'export LSF_DOCKER_VOLUMES=\"/storage1/fs1/m.wyczalkowski:/storage1/fs1/m.wyczalkowski /storage1/fs1/dinglab:/storage1/fs1/dinglab /scratch1/fs1/dinglab:/scratch1/fs1/dinglab /storage1/fs1/dinglab/Active/Projects/estorrs/pecgs_resources/cnv/pon/pecgs_pon_v1/precall/logs:/storage1/fs1/dinglab/Active/Projects/estorrs/pecgs_resources/cnv/pon/pecgs_pon_v1/precall/logs\"',\n",
       " 'bgadd -L 25 /estorrs/pecgs-25']"
      ]
     },
     "execution_count": 92,
     "metadata": {},
     "output_type": "execute_result"
    }
   ],
   "source": [
    "job_names = [f'{s}_precall' for s in df['case_id']]\n",
    "volumes = ['/storage1/fs1/m.wyczalkowski', '/storage1/fs1/dinglab', '/scratch1/fs1/dinglab']\n",
    "bsub_commands = bsub.batch_bsub_commands(cmds, job_names, os.path.join(precall_out_dir, 'logs'), args, volumes=volumes)\n",
    "bsub_commands[:3]"
   ]
  },
  {
   "cell_type": "code",
   "execution_count": 93,
   "id": "ed3763d4",
   "metadata": {},
   "outputs": [],
   "source": [
    "bsub.write_command_file(bsub_commands, '../tests/1.precall.sh')"
   ]
  },
  {
   "cell_type": "code",
   "execution_count": 94,
   "id": "5491bc12",
   "metadata": {},
   "outputs": [],
   "source": [
    "bsub.write_command_file(bsub_commands[:3], '../tests/1.precall_small.sh')"
   ]
  },
  {
   "cell_type": "code",
   "execution_count": null,
   "id": "728eafd3",
   "metadata": {},
   "outputs": [],
   "source": []
  },
  {
   "cell_type": "markdown",
   "id": "fac14721",
   "metadata": {},
   "source": [
    "###### step 2: pool normal"
   ]
  },
  {
   "cell_type": "code",
   "execution_count": 95,
   "id": "750755b8",
   "metadata": {},
   "outputs": [],
   "source": [
    "# sh $submitJob 8 1 gatk4cn.s2.pon \"bash $scriptDir/src/2.run.gatk4scna.createPON.sh -C ${config} -D ${hdf5Dir}\""
   ]
  },
  {
   "cell_type": "code",
   "execution_count": 96,
   "id": "8f5ff3d0",
   "metadata": {},
   "outputs": [],
   "source": [
    "# all_normal_hdf5=`ls ${DIR}/*.N.counts.hdf5 | while read file; do printf -- \"-I $file \"; done`\n",
    "# ${JAVA} -Dsamjdk.use_async_io_read_samtools=false \\\n",
    "#       -Dsamjdk.use_async_io_write_samtools=true \\\n",
    "#       -Dsamjdk.use_async_io_write_tribble=false \\\n",
    "#       -Dsamjdk.compression_level=2 \\\n",
    "#       -Xmx8g -jar ${GATK} CreateReadCountPanelOfNormals \\\n",
    "#       --minimum-interval-median-percentile 5.0 \\\n",
    "#       -O ${DIR}/gatk4scnaPON.Normal.hdf5 \\\n",
    "#       $all_normal_hdf5"
   ]
  },
  {
   "cell_type": "code",
   "execution_count": 97,
   "id": "03b4fd67",
   "metadata": {},
   "outputs": [],
   "source": [
    "def get_pool_command(sample, fps, out_dir):\n",
    "    pieces = [\n",
    "        'gatk CreateReadCountPanelOfNormals',\n",
    "        '--minimum-interval-median-percentile 5.0',\n",
    "        f'-O {out_dir}/gatk4scnaPON.Normal.hdf5'\n",
    "    ]\n",
    "    pieces += [f'-I {fp}' for fp in fps]\n",
    "    \n",
    "    cmd = ' '.join(pieces)\n",
    "    return cmd\n"
   ]
  },
  {
   "cell_type": "code",
   "execution_count": 98,
   "id": "afb53af4",
   "metadata": {},
   "outputs": [],
   "source": [
    "pool_out_dir = os.path.join(pon_out_dir, 'create_pon')"
   ]
  },
  {
   "cell_type": "code",
   "execution_count": 99,
   "id": "c5b57413",
   "metadata": {
    "scrolled": true
   },
   "outputs": [
    {
     "data": {
      "text/plain": [
       "['/storage1/fs1/dinglab/Active/Projects/estorrs/pecgs_resources/cnv/pon/pecgs_pon_v1/precall/PE001C1.N.counts.hdf5',\n",
       " '/storage1/fs1/dinglab/Active/Projects/estorrs/pecgs_resources/cnv/pon/pecgs_pon_v1/precall/PE002C1.N.counts.hdf5',\n",
       " '/storage1/fs1/dinglab/Active/Projects/estorrs/pecgs_resources/cnv/pon/pecgs_pon_v1/precall/PE003C1.N.counts.hdf5',\n",
       " '/storage1/fs1/dinglab/Active/Projects/estorrs/pecgs_resources/cnv/pon/pecgs_pon_v1/precall/PE0043A.N.counts.hdf5',\n",
       " '/storage1/fs1/dinglab/Active/Projects/estorrs/pecgs_resources/cnv/pon/pecgs_pon_v1/precall/PE005A1.N.counts.hdf5',\n",
       " '/storage1/fs1/dinglab/Active/Projects/estorrs/pecgs_resources/cnv/pon/pecgs_pon_v1/precall/PE0078U1.N.counts.hdf5',\n",
       " '/storage1/fs1/dinglab/Active/Projects/estorrs/pecgs_resources/cnv/pon/pecgs_pon_v1/precall/PEx011U1.N.counts.hdf5',\n",
       " '/storage1/fs1/dinglab/Active/Projects/estorrs/pecgs_resources/cnv/pon/pecgs_pon_v1/precall/PEx012U1.N.counts.hdf5']"
      ]
     },
     "execution_count": 99,
     "metadata": {},
     "output_type": "execute_result"
    }
   ],
   "source": [
    "fps = [f'{precall_out_dir}/{s}.N.counts.hdf5' for s in df['case_id'].to_list()]\n",
    "fps"
   ]
  },
  {
   "cell_type": "code",
   "execution_count": 100,
   "id": "f7900820",
   "metadata": {
    "scrolled": true
   },
   "outputs": [
    {
     "data": {
      "text/plain": [
       "'export PATH=/miniconda/envs/cnv/bin:$PATH && gatk CreateReadCountPanelOfNormals --minimum-interval-median-percentile 5.0 -O /storage1/fs1/dinglab/Active/Projects/estorrs/pecgs_resources/cnv/pon/pecgs_pon_v1/create_pon/gatk4scnaPON.Normal.hdf5 -I /storage1/fs1/dinglab/Active/Projects/estorrs/pecgs_resources/cnv/pon/pecgs_pon_v1/precall/PE001C1.N.counts.hdf5 -I /storage1/fs1/dinglab/Active/Projects/estorrs/pecgs_resources/cnv/pon/pecgs_pon_v1/precall/PE002C1.N.counts.hdf5 -I /storage1/fs1/dinglab/Active/Projects/estorrs/pecgs_resources/cnv/pon/pecgs_pon_v1/precall/PE003C1.N.counts.hdf5 -I /storage1/fs1/dinglab/Active/Projects/estorrs/pecgs_resources/cnv/pon/pecgs_pon_v1/precall/PE0043A.N.counts.hdf5 -I /storage1/fs1/dinglab/Active/Projects/estorrs/pecgs_resources/cnv/pon/pecgs_pon_v1/precall/PE005A1.N.counts.hdf5 -I /storage1/fs1/dinglab/Active/Projects/estorrs/pecgs_resources/cnv/pon/pecgs_pon_v1/precall/PE0078U1.N.counts.hdf5 -I /storage1/fs1/dinglab/Active/Projects/estorrs/pecgs_resources/cnv/pon/pecgs_pon_v1/precall/PEx011U1.N.counts.hdf5 -I /storage1/fs1/dinglab/Active/Projects/estorrs/pecgs_resources/cnv/pon/pecgs_pon_v1/precall/PEx012U1.N.counts.hdf5'"
      ]
     },
     "execution_count": 100,
     "metadata": {},
     "output_type": "execute_result"
    }
   ],
   "source": [
    "cmd = f'export PATH=/miniconda/envs/cnv/bin:$PATH && ' + get_pool_command(df['case_id'], fps, pool_out_dir)\n",
    "cmd"
   ]
  },
  {
   "cell_type": "code",
   "execution_count": 101,
   "id": "ada206ca",
   "metadata": {
    "scrolled": true
   },
   "outputs": [
    {
     "data": {
      "text/plain": [
       "['mkdir -p /storage1/fs1/dinglab/Active/Projects/estorrs/pecgs_resources/cnv/pon/pecgs_pon_v1/create_pon',\n",
       " 'export LSF_DOCKER_VOLUMES=\"/storage1/fs1/m.wyczalkowski:/storage1/fs1/m.wyczalkowski /storage1/fs1/dinglab:/storage1/fs1/dinglab /scratch1/fs1/dinglab:/scratch1/fs1/dinglab /storage1/fs1/dinglab/Active/Projects/estorrs/pecgs_resources/cnv/pon/pecgs_pon_v1/create_pon:/storage1/fs1/dinglab/Active/Projects/estorrs/pecgs_resources/cnv/pon/pecgs_pon_v1/create_pon\"',\n",
       " 'bgadd -L 25 /estorrs/pecgs-25',\n",
       " 'export PATH=\"/opt/java/openjdk/bin:$PATH\"',\n",
       " \"bsub -R 'select[mem>28GB] rusage[mem=28GB] span[hosts=1]' -M 28GB -n 1 -q dinglab -G compute-dinglab -a 'docker(estorrs/pecgs_cnv:0.0.2)' -g /estorrs/pecgs-25 -J create_pon -oo /storage1/fs1/dinglab/Active/Projects/estorrs/pecgs_resources/cnv/pon/pecgs_pon_v1/create_pon/create_pon.txt 'export PATH=/miniconda/envs/cnv/bin:$PATH && gatk CreateReadCountPanelOfNormals --minimum-interval-median-percentile 5.0 -O /storage1/fs1/dinglab/Active/Projects/estorrs/pecgs_resources/cnv/pon/pecgs_pon_v1/create_pon/gatk4scnaPON.Normal.hdf5 -I /storage1/fs1/dinglab/Active/Projects/estorrs/pecgs_resources/cnv/pon/pecgs_pon_v1/precall/PE001C1.N.counts.hdf5 -I /storage1/fs1/dinglab/Active/Projects/estorrs/pecgs_resources/cnv/pon/pecgs_pon_v1/precall/PE002C1.N.counts.hdf5 -I /storage1/fs1/dinglab/Active/Projects/estorrs/pecgs_resources/cnv/pon/pecgs_pon_v1/precall/PE003C1.N.counts.hdf5 -I /storage1/fs1/dinglab/Active/Projects/estorrs/pecgs_resources/cnv/pon/pecgs_pon_v1/precall/PE0043A.N.counts.hdf5 -I /storage1/fs1/dinglab/Active/Projects/estorrs/pecgs_resources/cnv/pon/pecgs_pon_v1/precall/PE005A1.N.counts.hdf5 -I /storage1/fs1/dinglab/Active/Projects/estorrs/pecgs_resources/cnv/pon/pecgs_pon_v1/precall/PE0078U1.N.counts.hdf5 -I /storage1/fs1/dinglab/Active/Projects/estorrs/pecgs_resources/cnv/pon/pecgs_pon_v1/precall/PEx011U1.N.counts.hdf5 -I /storage1/fs1/dinglab/Active/Projects/estorrs/pecgs_resources/cnv/pon/pecgs_pon_v1/precall/PEx012U1.N.counts.hdf5'\"]"
      ]
     },
     "execution_count": 101,
     "metadata": {},
     "output_type": "execute_result"
    }
   ],
   "source": [
    "job_names = [f'create_pon']\n",
    "volumes = ['/storage1/fs1/m.wyczalkowski', '/storage1/fs1/dinglab', '/scratch1/fs1/dinglab']\n",
    "bsub_commands = bsub.batch_bsub_commands([cmd], ['create_pon'], pool_out_dir, args, volumes=volumes)\n",
    "bsub_commands"
   ]
  },
  {
   "cell_type": "code",
   "execution_count": 102,
   "id": "0af8eaa8",
   "metadata": {},
   "outputs": [],
   "source": [
    "bsub.write_command_file(bsub_commands, '../tests/2.create_pon.sh')"
   ]
  },
  {
   "cell_type": "code",
   "execution_count": null,
   "id": "b3f40021",
   "metadata": {},
   "outputs": [],
   "source": []
  }
 ],
 "metadata": {
  "kernelspec": {
   "display_name": "Python 3 (ipykernel)",
   "language": "python",
   "name": "python3"
  },
  "language_info": {
   "codemirror_mode": {
    "name": "ipython",
    "version": 3
   },
   "file_extension": ".py",
   "mimetype": "text/x-python",
   "name": "python",
   "nbconvert_exporter": "python",
   "pygments_lexer": "ipython3",
   "version": "3.10.2"
  }
 },
 "nbformat": 4,
 "nbformat_minor": 5
}
