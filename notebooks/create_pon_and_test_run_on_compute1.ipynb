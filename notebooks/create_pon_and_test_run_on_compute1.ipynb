{
 "cells": [
  {
   "cell_type": "code",
   "execution_count": 1,
   "id": "a5d729a7",
   "metadata": {},
   "outputs": [],
   "source": [
    "import os\n",
    "import re\n",
    "import pandas as pd\n",
    "import yaml\n",
    "\n",
    "import wombat.bsub as bsub"
   ]
  },
  {
   "cell_type": "code",
   "execution_count": 2,
   "id": "3f993123",
   "metadata": {},
   "outputs": [],
   "source": [
    "# !pip install git+https://github.com/estorrs/wombat.git"
   ]
  },
  {
   "cell_type": "code",
   "execution_count": 3,
   "id": "7d67571f",
   "metadata": {},
   "outputs": [],
   "source": [
    "# !pip uninstall wombat -y"
   ]
  },
  {
   "cell_type": "markdown",
   "id": "fb427369",
   "metadata": {},
   "source": [
    "###### grab data from cptac bammap"
   ]
  },
  {
   "cell_type": "code",
   "execution_count": 4,
   "id": "154eda84",
   "metadata": {},
   "outputs": [
    {
     "data": {
      "text/html": [
       "<div>\n",
       "<style scoped>\n",
       "    .dataframe tbody tr th:only-of-type {\n",
       "        vertical-align: middle;\n",
       "    }\n",
       "\n",
       "    .dataframe tbody tr th {\n",
       "        vertical-align: top;\n",
       "    }\n",
       "\n",
       "    .dataframe thead th {\n",
       "        text-align: right;\n",
       "    }\n",
       "</style>\n",
       "<table border=\"1\" class=\"dataframe\">\n",
       "  <thead>\n",
       "    <tr style=\"text-align: right;\">\n",
       "      <th></th>\n",
       "      <th>case</th>\n",
       "      <th>disease</th>\n",
       "      <th>experimental_strategy</th>\n",
       "      <th>sample_type</th>\n",
       "      <th>data_path</th>\n",
       "      <th>filesize</th>\n",
       "      <th>data_format</th>\n",
       "      <th>reference</th>\n",
       "      <th>UUID</th>\n",
       "      <th>system</th>\n",
       "    </tr>\n",
       "    <tr>\n",
       "      <th># sample_name</th>\n",
       "      <th></th>\n",
       "      <th></th>\n",
       "      <th></th>\n",
       "      <th></th>\n",
       "      <th></th>\n",
       "      <th></th>\n",
       "      <th></th>\n",
       "      <th></th>\n",
       "      <th></th>\n",
       "      <th></th>\n",
       "    </tr>\n",
       "  </thead>\n",
       "  <tbody>\n",
       "    <tr>\n",
       "      <th>C3L-00081.WXS.N.hg38</th>\n",
       "      <td>C3L-00081</td>\n",
       "      <td>LSCC</td>\n",
       "      <td>WXS</td>\n",
       "      <td>blood_normal</td>\n",
       "      <td>/storage1/fs1/m.wyczalkowski/Active/Primary/CP...</td>\n",
       "      <td>39312702311</td>\n",
       "      <td>BAM</td>\n",
       "      <td>hg38</td>\n",
       "      <td>ec948c00-910b-4c7b-82a7-4d209d377116</td>\n",
       "      <td>storage1</td>\n",
       "    </tr>\n",
       "    <tr>\n",
       "      <th>C3L-00137.WXS.N.hg38</th>\n",
       "      <td>C3L-00137</td>\n",
       "      <td>UCEC</td>\n",
       "      <td>WXS</td>\n",
       "      <td>blood_normal</td>\n",
       "      <td>/storage1/fs1/m.wyczalkowski/Active/Primary/CP...</td>\n",
       "      <td>29560881189</td>\n",
       "      <td>BAM</td>\n",
       "      <td>hg38</td>\n",
       "      <td>d5a11391-8b84-4be2-8a8e-62d1e646b786</td>\n",
       "      <td>storage1</td>\n",
       "    </tr>\n",
       "    <tr>\n",
       "      <th>C3L-00938.WXS.N.hg38</th>\n",
       "      <td>C3L-00938</td>\n",
       "      <td>UCEC</td>\n",
       "      <td>WXS</td>\n",
       "      <td>blood_normal</td>\n",
       "      <td>/storage1/fs1/m.wyczalkowski/Active/Primary/CP...</td>\n",
       "      <td>41929157127</td>\n",
       "      <td>BAM</td>\n",
       "      <td>hg38</td>\n",
       "      <td>98c830a5-8735-4f5f-812d-3e7f7c3aa514</td>\n",
       "      <td>storage1</td>\n",
       "    </tr>\n",
       "    <tr>\n",
       "      <th>C3L-01039.WXS.N.BIOTEXT_kRQkDBr.hg38</th>\n",
       "      <td>C3L-01039</td>\n",
       "      <td>PDA</td>\n",
       "      <td>WXS</td>\n",
       "      <td>blood_normal</td>\n",
       "      <td>/storage1/fs1/m.wyczalkowski/Active/Primary/CP...</td>\n",
       "      <td>36998045601</td>\n",
       "      <td>BAM</td>\n",
       "      <td>hg38</td>\n",
       "      <td>3d9d35d6-5d4c-4585-bdd9-7fd46867519f</td>\n",
       "      <td>storage1</td>\n",
       "    </tr>\n",
       "    <tr>\n",
       "      <th>C3L-01232.WXS.N.hg38</th>\n",
       "      <td>C3L-01232</td>\n",
       "      <td>GBM</td>\n",
       "      <td>WXS</td>\n",
       "      <td>blood_normal</td>\n",
       "      <td>/storage1/fs1/m.wyczalkowski/Active/Primary/CP...</td>\n",
       "      <td>45532138913</td>\n",
       "      <td>BAM</td>\n",
       "      <td>hg38</td>\n",
       "      <td>a65f1db8-170a-4ec2-a20b-e6deff964e2c</td>\n",
       "      <td>storage1</td>\n",
       "    </tr>\n",
       "    <tr>\n",
       "      <th>...</th>\n",
       "      <td>...</td>\n",
       "      <td>...</td>\n",
       "      <td>...</td>\n",
       "      <td>...</td>\n",
       "      <td>...</td>\n",
       "      <td>...</td>\n",
       "      <td>...</td>\n",
       "      <td>...</td>\n",
       "      <td>...</td>\n",
       "      <td>...</td>\n",
       "    </tr>\n",
       "    <tr>\n",
       "      <th>C3N-04693.WXS.N.hg38</th>\n",
       "      <td>C3N-04693</td>\n",
       "      <td>GBM</td>\n",
       "      <td>WXS</td>\n",
       "      <td>blood_normal</td>\n",
       "      <td>/storage1/fs1/m.wyczalkowski/Active/Primary/CP...</td>\n",
       "      <td>40597818463</td>\n",
       "      <td>BAM</td>\n",
       "      <td>hg38</td>\n",
       "      <td>6fb6bf47-d501-4858-ba49-6e2cd516474a</td>\n",
       "      <td>storage1</td>\n",
       "    </tr>\n",
       "    <tr>\n",
       "      <th>C3N-04695.WXS.N.hg38</th>\n",
       "      <td>C3N-04695</td>\n",
       "      <td>GBM</td>\n",
       "      <td>WXS</td>\n",
       "      <td>blood_normal</td>\n",
       "      <td>/storage1/fs1/m.wyczalkowski/Active/Primary/CP...</td>\n",
       "      <td>32304960170</td>\n",
       "      <td>BAM</td>\n",
       "      <td>hg38</td>\n",
       "      <td>3bbdc094-e064-4c89-afec-bf59940cfe16</td>\n",
       "      <td>storage1</td>\n",
       "    </tr>\n",
       "    <tr>\n",
       "      <th>C3N-05039.WXS.N.hg38</th>\n",
       "      <td>C3N-05039</td>\n",
       "      <td>GBM</td>\n",
       "      <td>WXS</td>\n",
       "      <td>blood_normal</td>\n",
       "      <td>/storage1/fs1/m.wyczalkowski/Active/Primary/CP...</td>\n",
       "      <td>41040654784</td>\n",
       "      <td>BAM</td>\n",
       "      <td>hg38</td>\n",
       "      <td>b528bf8e-bae9-4d91-8d62-1746ba1a1ac0</td>\n",
       "      <td>storage1</td>\n",
       "    </tr>\n",
       "    <tr>\n",
       "      <th>C3N-05114.WXS.N.hg38</th>\n",
       "      <td>C3N-05114</td>\n",
       "      <td>GBM</td>\n",
       "      <td>WXS</td>\n",
       "      <td>blood_normal</td>\n",
       "      <td>/storage1/fs1/m.wyczalkowski/Active/Primary/CP...</td>\n",
       "      <td>34460031755</td>\n",
       "      <td>BAM</td>\n",
       "      <td>hg38</td>\n",
       "      <td>ec6ae616-4341-4d27-8a50-698388968128</td>\n",
       "      <td>storage1</td>\n",
       "    </tr>\n",
       "    <tr>\n",
       "      <th>C3N-05135.WXS.N.hg38</th>\n",
       "      <td>C3N-05135</td>\n",
       "      <td>GBM</td>\n",
       "      <td>WXS</td>\n",
       "      <td>blood_normal</td>\n",
       "      <td>/storage1/fs1/m.wyczalkowski/Active/Primary/CP...</td>\n",
       "      <td>34914215861</td>\n",
       "      <td>BAM</td>\n",
       "      <td>hg38</td>\n",
       "      <td>98ae81ee-90ef-4c56-8a69-5c5b73fecfec</td>\n",
       "      <td>storage1</td>\n",
       "    </tr>\n",
       "  </tbody>\n",
       "</table>\n",
       "<p>87 rows × 10 columns</p>\n",
       "</div>"
      ],
      "text/plain": [
       "                                           case disease experimental_strategy  \\\n",
       "# sample_name                                                                   \n",
       "C3L-00081.WXS.N.hg38                  C3L-00081    LSCC                   WXS   \n",
       "C3L-00137.WXS.N.hg38                  C3L-00137    UCEC                   WXS   \n",
       "C3L-00938.WXS.N.hg38                  C3L-00938    UCEC                   WXS   \n",
       "C3L-01039.WXS.N.BIOTEXT_kRQkDBr.hg38  C3L-01039     PDA                   WXS   \n",
       "C3L-01232.WXS.N.hg38                  C3L-01232     GBM                   WXS   \n",
       "...                                         ...     ...                   ...   \n",
       "C3N-04693.WXS.N.hg38                  C3N-04693     GBM                   WXS   \n",
       "C3N-04695.WXS.N.hg38                  C3N-04695     GBM                   WXS   \n",
       "C3N-05039.WXS.N.hg38                  C3N-05039     GBM                   WXS   \n",
       "C3N-05114.WXS.N.hg38                  C3N-05114     GBM                   WXS   \n",
       "C3N-05135.WXS.N.hg38                  C3N-05135     GBM                   WXS   \n",
       "\n",
       "                                       sample_type  \\\n",
       "# sample_name                                        \n",
       "C3L-00081.WXS.N.hg38                  blood_normal   \n",
       "C3L-00137.WXS.N.hg38                  blood_normal   \n",
       "C3L-00938.WXS.N.hg38                  blood_normal   \n",
       "C3L-01039.WXS.N.BIOTEXT_kRQkDBr.hg38  blood_normal   \n",
       "C3L-01232.WXS.N.hg38                  blood_normal   \n",
       "...                                            ...   \n",
       "C3N-04693.WXS.N.hg38                  blood_normal   \n",
       "C3N-04695.WXS.N.hg38                  blood_normal   \n",
       "C3N-05039.WXS.N.hg38                  blood_normal   \n",
       "C3N-05114.WXS.N.hg38                  blood_normal   \n",
       "C3N-05135.WXS.N.hg38                  blood_normal   \n",
       "\n",
       "                                                                              data_path  \\\n",
       "# sample_name                                                                             \n",
       "C3L-00081.WXS.N.hg38                  /storage1/fs1/m.wyczalkowski/Active/Primary/CP...   \n",
       "C3L-00137.WXS.N.hg38                  /storage1/fs1/m.wyczalkowski/Active/Primary/CP...   \n",
       "C3L-00938.WXS.N.hg38                  /storage1/fs1/m.wyczalkowski/Active/Primary/CP...   \n",
       "C3L-01039.WXS.N.BIOTEXT_kRQkDBr.hg38  /storage1/fs1/m.wyczalkowski/Active/Primary/CP...   \n",
       "C3L-01232.WXS.N.hg38                  /storage1/fs1/m.wyczalkowski/Active/Primary/CP...   \n",
       "...                                                                                 ...   \n",
       "C3N-04693.WXS.N.hg38                  /storage1/fs1/m.wyczalkowski/Active/Primary/CP...   \n",
       "C3N-04695.WXS.N.hg38                  /storage1/fs1/m.wyczalkowski/Active/Primary/CP...   \n",
       "C3N-05039.WXS.N.hg38                  /storage1/fs1/m.wyczalkowski/Active/Primary/CP...   \n",
       "C3N-05114.WXS.N.hg38                  /storage1/fs1/m.wyczalkowski/Active/Primary/CP...   \n",
       "C3N-05135.WXS.N.hg38                  /storage1/fs1/m.wyczalkowski/Active/Primary/CP...   \n",
       "\n",
       "                                         filesize data_format reference  \\\n",
       "# sample_name                                                             \n",
       "C3L-00081.WXS.N.hg38                  39312702311         BAM      hg38   \n",
       "C3L-00137.WXS.N.hg38                  29560881189         BAM      hg38   \n",
       "C3L-00938.WXS.N.hg38                  41929157127         BAM      hg38   \n",
       "C3L-01039.WXS.N.BIOTEXT_kRQkDBr.hg38  36998045601         BAM      hg38   \n",
       "C3L-01232.WXS.N.hg38                  45532138913         BAM      hg38   \n",
       "...                                           ...         ...       ...   \n",
       "C3N-04693.WXS.N.hg38                  40597818463         BAM      hg38   \n",
       "C3N-04695.WXS.N.hg38                  32304960170         BAM      hg38   \n",
       "C3N-05039.WXS.N.hg38                  41040654784         BAM      hg38   \n",
       "C3N-05114.WXS.N.hg38                  34460031755         BAM      hg38   \n",
       "C3N-05135.WXS.N.hg38                  34914215861         BAM      hg38   \n",
       "\n",
       "                                                                      UUID  \\\n",
       "# sample_name                                                                \n",
       "C3L-00081.WXS.N.hg38                  ec948c00-910b-4c7b-82a7-4d209d377116   \n",
       "C3L-00137.WXS.N.hg38                  d5a11391-8b84-4be2-8a8e-62d1e646b786   \n",
       "C3L-00938.WXS.N.hg38                  98c830a5-8735-4f5f-812d-3e7f7c3aa514   \n",
       "C3L-01039.WXS.N.BIOTEXT_kRQkDBr.hg38  3d9d35d6-5d4c-4585-bdd9-7fd46867519f   \n",
       "C3L-01232.WXS.N.hg38                  a65f1db8-170a-4ec2-a20b-e6deff964e2c   \n",
       "...                                                                    ...   \n",
       "C3N-04693.WXS.N.hg38                  6fb6bf47-d501-4858-ba49-6e2cd516474a   \n",
       "C3N-04695.WXS.N.hg38                  3bbdc094-e064-4c89-afec-bf59940cfe16   \n",
       "C3N-05039.WXS.N.hg38                  b528bf8e-bae9-4d91-8d62-1746ba1a1ac0   \n",
       "C3N-05114.WXS.N.hg38                  ec6ae616-4341-4d27-8a50-698388968128   \n",
       "C3N-05135.WXS.N.hg38                  98ae81ee-90ef-4c56-8a69-5c5b73fecfec   \n",
       "\n",
       "                                        system  \n",
       "# sample_name                                   \n",
       "C3L-00081.WXS.N.hg38                  storage1  \n",
       "C3L-00137.WXS.N.hg38                  storage1  \n",
       "C3L-00938.WXS.N.hg38                  storage1  \n",
       "C3L-01039.WXS.N.BIOTEXT_kRQkDBr.hg38  storage1  \n",
       "C3L-01232.WXS.N.hg38                  storage1  \n",
       "...                                        ...  \n",
       "C3N-04693.WXS.N.hg38                  storage1  \n",
       "C3N-04695.WXS.N.hg38                  storage1  \n",
       "C3N-05039.WXS.N.hg38                  storage1  \n",
       "C3N-05114.WXS.N.hg38                  storage1  \n",
       "C3N-05135.WXS.N.hg38                  storage1  \n",
       "\n",
       "[87 rows x 10 columns]"
      ]
     },
     "execution_count": 4,
     "metadata": {},
     "output_type": "execute_result"
    }
   ],
   "source": [
    "df = pd.read_csv('/home/estorrs/CPTAC3.catalog/BamMap/storage1.BamMap.dat', sep='\\t', index_col=0)\n",
    "df = df[df['experimental_strategy']=='WXS']\n",
    "df = df[df['sample_type']=='blood_normal']\n",
    "df = df[df['reference']=='hg38']\n",
    "df"
   ]
  },
  {
   "cell_type": "code",
   "execution_count": null,
   "id": "efc1221d",
   "metadata": {},
   "outputs": [],
   "source": []
  },
  {
   "cell_type": "markdown",
   "id": "047650bb",
   "metadata": {},
   "source": [
    "calls from https://github.com/ding-lab/GATK4SCNA"
   ]
  },
  {
   "cell_type": "code",
   "execution_count": null,
   "id": "a86a5f9a",
   "metadata": {},
   "outputs": [],
   "source": []
  },
  {
   "cell_type": "code",
   "execution_count": 5,
   "id": "52f689c5",
   "metadata": {},
   "outputs": [],
   "source": [
    "# GENOME=/storage1/fs1/dinglab/Active/Projects/austins2/references/GRCh38.d1.vd1/GRCh38.d1.vd1.fa\n",
    "# GENOME_DICT=/storage1/fs1/dinglab/Active/Projects/austins2/references/GRCh38.d1.vd1/GRCh38.d1.vd1.dict\n",
    "\n",
    "\n",
    "# # Target\n",
    "# TargetIntervalList=/code/db/IDT_xGen_Exome_Research_Panel_v1.hg38.removed_alt_chr.bed.target.preprocessed.exome.interval_list\n",
    "\n",
    "\n",
    "# # SNP database\n",
    "# COMMON_BIALLELIC=/code/db/snp_database/af-only-gnomad.hg38.common_biallelic.chr1-22XY.vcf\n",
    "\n",
    "\n",
    "# # protein coding genes\n",
    "# ProteinCodingGene=/code/db/remaking_protein-coding/gencode.v34.annotation.gene_filterd.need_gene_symbol.no_sym.filtered_to_hgnc_protein-coding_genes.bed\n"
   ]
  },
  {
   "cell_type": "code",
   "execution_count": 6,
   "id": "ee071e78",
   "metadata": {},
   "outputs": [],
   "source": [
    "genome = '/storage1/fs1/dinglab/Active/Projects/estorrs/pecgs_resources/cnv/references/GRCh38.d1.vd1/GRCh38.d1.vd1.fa'\n",
    "genome_dict = '/storage1/fs1/dinglab/Active/Projects/estorrs/pecgs_resources/cnv/references/GRCh38.d1.vd1/GRCh38.d1.vd1.dict'\n",
    "target_interval_list = '/storage1/fs1/dinglab/Active/Projects/estorrs/pecgs_resources/cnv/db/IDT_xGen_Exome_Research_Panel_v1.hg38.removed_alt_chr.bed.target.preprocessed.exome.interval_list'\n",
    "common_biallelic = '/storage1/fs1/dinglab/Active/Projects/estorrs/pecgs_resources/cnv/db/snp_database/af-only-gnomad.hg38.common_biallelic.chr1-22XY.vcf'\n",
    "protein_coding_gene = '/storage1/fs1/dinglab/Active/Projects/estorrs/pecgs_resources/cnv/db/remaking_protein-coding/gencode.v34.annotation.gene_filterd.need_gene_symbol.no_sym.filtered_to_hgnc_protein-coding_genes.bed'\n",
    "\n",
    "\n",
    "\n",
    "\n",
    "\n"
   ]
  },
  {
   "cell_type": "code",
   "execution_count": 7,
   "id": "c466e90f",
   "metadata": {},
   "outputs": [],
   "source": [
    "pon_out_dir = '/storage1/fs1/dinglab/Active/Projects/estorrs/pecgs_resources/cnv/pon'"
   ]
  },
  {
   "cell_type": "code",
   "execution_count": 20,
   "id": "67296c7b",
   "metadata": {},
   "outputs": [
    {
     "data": {
      "text/plain": [
       "{'mem': 28,\n",
       " 'max_mem': 28,\n",
       " 'docker': 'estorrs/pecgs_cnv:0.0.1',\n",
       " 'queue': 'dinglab',\n",
       " 'group': 'compute-dinglab',\n",
       " 'group_name': 'pecgs-25',\n",
       " 'n_concurrent': 25,\n",
       " 'interactive': False,\n",
       " 'username': 'estorrs'}"
      ]
     },
     "execution_count": 20,
     "metadata": {},
     "output_type": "execute_result"
    }
   ],
   "source": [
    "args = bsub.DEFAULT_ARGS\n",
    "args['n_concurrent'] = 25\n",
    "args['mem'], args['max_mem'] = 28, 28\n",
    "args['docker'] = 'estorrs/pecgs_cnv:0.0.1'\n",
    "args['group_name'] = 'pecgs-25'\n",
    "args"
   ]
  },
  {
   "cell_type": "markdown",
   "id": "36b63962",
   "metadata": {},
   "source": [
    "###### step 1: precall"
   ]
  },
  {
   "cell_type": "code",
   "execution_count": 21,
   "id": "13d26d23",
   "metadata": {},
   "outputs": [],
   "source": [
    "# bash /storage1/fs1/dinglab/Active/Projects/austins2/tools/GATK4SCNA/gatk_somatic.cnv.mgi.sh -p precall -t /storage1/fs1/dinglab/Active/Projects/austins2/HTAN-BRCA/CNV/gatk4scna/bam.list -M /storage1/fs1/dinglab/Active/Projects/austins2/HTAN-BRCA/CNV/gatk4scna/normalBam.list -o /storage1/fs1/dinglab/Active/Projects/austins2/HTAN-BRCA/CNV/gatk4scna -c /storage1/fs1/dinglab/Active/Projects/austins2/tools/GATK4SCNA/config/config.gatk4scna.mgi.ini\n",
    "\n",
    "# sh $submitJob 4 1 gatk4cn.s1.${name} \"bash $scriptDir/src/1.run.gatk4scna.collectReadCounts.Normal.sh -C ${config} -N ${caseID} -T Normal -B ${normalBam} -O ${outdir}\"\n",
    "\n",
    "\n"
   ]
  },
  {
   "cell_type": "code",
   "execution_count": 22,
   "id": "ecbbc52f",
   "metadata": {},
   "outputs": [],
   "source": [
    "# ${JAVA} -Dsamjdk.use_async_io_read_samtools=false \\\n",
    "#       -Dsamjdk.use_async_io_write_samtools=true \\\n",
    "#       -Dsamjdk.use_async_io_write_tribble=false \\\n",
    "#       -Dsamjdk.compression_level=2 \\\n",
    "#       -Xmx4g -jar ${GATK} CollectReadCounts \\\n",
    "#       -I ${BAM} \\\n",
    "#       -L ${TargetIntervalList} \\\n",
    "#       --interval-merging-rule OVERLAPPING_ONLY \\\n",
    "#       -O ${OUT}/${NAME}.N.counts.hdf5"
   ]
  },
  {
   "cell_type": "code",
   "execution_count": 23,
   "id": "66fb3f4f",
   "metadata": {},
   "outputs": [],
   "source": [
    "def get_precall_command(sample, normal_fp, out_dir):\n",
    "    pieces = [\n",
    "        'gatk CollectReadCounts',\n",
    "        '-I', normal_fp,\n",
    "        '-L', target_interval_list,\n",
    "        '-interval-merging-rule OVERLAPPING_ONLY',\n",
    "        f'-O {out_dir}/{sample}.N.counts.hdf5'\n",
    "    ]\n",
    "    cmd = ' '.join(pieces)\n",
    "    return cmd\n"
   ]
  },
  {
   "cell_type": "code",
   "execution_count": 24,
   "id": "89eb8a70",
   "metadata": {},
   "outputs": [
    {
     "data": {
      "text/plain": [
       "['export PATH=/miniconda/envs/cnv/bin:$PATH && gatk CollectReadCounts -I /storage1/fs1/m.wyczalkowski/Active/Primary/CPTAC3.share/CPTAC3-GDC/GDC_import/data/ec948c00-910b-4c7b-82a7-4d209d377116/5e04faec-58e8-403f-942b-74e8c0053805_gdc_realn.bam -L /storage1/fs1/dinglab/Active/Projects/estorrs/pecgs_resources/cnv/db/IDT_xGen_Exome_Research_Panel_v1.hg38.removed_alt_chr.bed.target.preprocessed.exome.interval_list -interval-merging-rule OVERLAPPING_ONLY -O /storage1/fs1/dinglab/Active/Projects/estorrs/pecgs_resources/cnv/pon/precall/C3L-00081.N.counts.hdf5',\n",
       " 'export PATH=/miniconda/envs/cnv/bin:$PATH && gatk CollectReadCounts -I /storage1/fs1/m.wyczalkowski/Active/Primary/CPTAC3.share/CPTAC3-GDC/GDC_import/data/d5a11391-8b84-4be2-8a8e-62d1e646b786/552d7534-1fd1-490b-8751-9dff1bf55569_gdc_realn.bam -L /storage1/fs1/dinglab/Active/Projects/estorrs/pecgs_resources/cnv/db/IDT_xGen_Exome_Research_Panel_v1.hg38.removed_alt_chr.bed.target.preprocessed.exome.interval_list -interval-merging-rule OVERLAPPING_ONLY -O /storage1/fs1/dinglab/Active/Projects/estorrs/pecgs_resources/cnv/pon/precall/C3L-00137.N.counts.hdf5']"
      ]
     },
     "execution_count": 24,
     "metadata": {},
     "output_type": "execute_result"
    }
   ],
   "source": [
    "precall_out_dir = os.path.join(pon_out_dir, 'precall')\n",
    "cmds = []\n",
    "for i, row in df.iterrows():\n",
    "    cmd = f'export PATH=/miniconda/envs/cnv/bin:$PATH && ' + get_precall_command(row['case'], row['data_path'], precall_out_dir)\n",
    "    cmds.append(cmd)\n",
    "cmds[:2]"
   ]
  },
  {
   "cell_type": "code",
   "execution_count": 25,
   "id": "8f735f36",
   "metadata": {},
   "outputs": [
    {
     "name": "stdout",
     "output_type": "stream",
     "text": [
      "Failed to create log dir /storage1/fs1/dinglab/Active/Projects/estorrs/pecgs_resources/cnv/pon/precall/logs\n"
     ]
    },
    {
     "data": {
      "text/plain": [
       "['export LSF_DOCKER_VOLUMES=\"/storage1/fs1/m.wyczalkowski/Active:/storage1/fs1/m.wyczalkowski/Active /storage1/fs1/dinglab/Active:/storage1/fs1/dinglab/Active /storage1/fs1/dinglab/Active/Projects/estorrs/pecgs_resources/cnv/pon/precall/logs:/storage1/fs1/dinglab/Active/Projects/estorrs/pecgs_resources/cnv/pon/precall/logs\"',\n",
       " 'bgadd -L 25 /estorrs/pecgs-25',\n",
       " \"bsub -R 'rusage[mem=28GB]' -M 28GB -q dinglab -G compute-dinglab -a 'docker(estorrs/pecgs_cnv:0.0.1)' -g /estorrs/pecgs-25 -J C3L-00081_precall -oo /storage1/fs1/dinglab/Active/Projects/estorrs/pecgs_resources/cnv/pon/precall/logs/C3L-00081_precall.txt 'export PATH=/miniconda/envs/cnv/bin:$PATH && gatk CollectReadCounts -I /storage1/fs1/m.wyczalkowski/Active/Primary/CPTAC3.share/CPTAC3-GDC/GDC_import/data/ec948c00-910b-4c7b-82a7-4d209d377116/5e04faec-58e8-403f-942b-74e8c0053805_gdc_realn.bam -L /storage1/fs1/dinglab/Active/Projects/estorrs/pecgs_resources/cnv/db/IDT_xGen_Exome_Research_Panel_v1.hg38.removed_alt_chr.bed.target.preprocessed.exome.interval_list -interval-merging-rule OVERLAPPING_ONLY -O /storage1/fs1/dinglab/Active/Projects/estorrs/pecgs_resources/cnv/pon/precall/C3L-00081.N.counts.hdf5'\"]"
      ]
     },
     "execution_count": 25,
     "metadata": {},
     "output_type": "execute_result"
    }
   ],
   "source": [
    "job_names = [f'{s}_precall' for s in df['case']]\n",
    "volumes = ['/storage1/fs1/m.wyczalkowski/Active', '/storage1/fs1/dinglab/Active']\n",
    "bsub_commands = bsub.batch_bsub_commands(cmds, job_names, os.path.join(precall_out_dir, 'logs'), args, volumes=volumes)\n",
    "bsub_commands[:3]"
   ]
  },
  {
   "cell_type": "code",
   "execution_count": 26,
   "id": "dcbb7d8f",
   "metadata": {},
   "outputs": [],
   "source": [
    "bsub.write_command_file(bsub_commands, '../tests/1.precall.sh')"
   ]
  },
  {
   "cell_type": "code",
   "execution_count": 27,
   "id": "08fd59bd",
   "metadata": {},
   "outputs": [],
   "source": [
    "bsub.write_command_file(bsub_commands[:3], '../tests/1.precall_small.sh')"
   ]
  },
  {
   "cell_type": "code",
   "execution_count": null,
   "id": "69d22456",
   "metadata": {},
   "outputs": [],
   "source": []
  },
  {
   "cell_type": "markdown",
   "id": "c14db72e",
   "metadata": {},
   "source": [
    "###### step 2: pool normal"
   ]
  },
  {
   "cell_type": "code",
   "execution_count": 28,
   "id": "c0550713",
   "metadata": {},
   "outputs": [],
   "source": [
    "# sh $submitJob 8 1 gatk4cn.s2.pon \"bash $scriptDir/src/2.run.gatk4scna.createPON.sh -C ${config} -D ${hdf5Dir}\""
   ]
  },
  {
   "cell_type": "code",
   "execution_count": null,
   "id": "211f1562",
   "metadata": {},
   "outputs": [],
   "source": [
    "# all_normal_hdf5=`ls ${DIR}/*.N.counts.hdf5 | while read file; do printf -- \"-I $file \"; done`\n",
    "# ${JAVA} -Dsamjdk.use_async_io_read_samtools=false \\\n",
    "#       -Dsamjdk.use_async_io_write_samtools=true \\\n",
    "#       -Dsamjdk.use_async_io_write_tribble=false \\\n",
    "#       -Dsamjdk.compression_level=2 \\\n",
    "#       -Xmx8g -jar ${GATK} CreateReadCountPanelOfNormals \\\n",
    "#       --minimum-interval-median-percentile 5.0 \\\n",
    "#       -O ${DIR}/gatk4scnaPON.Normal.hdf5 \\\n",
    "#       $all_normal_hdf5"
   ]
  },
  {
   "cell_type": "code",
   "execution_count": 32,
   "id": "3d8eec48",
   "metadata": {},
   "outputs": [],
   "source": [
    "def get_pool_command(sample, fps, out_dir):\n",
    "    pieces = [\n",
    "        'gatk CreateReadCountPanelOfNormals',\n",
    "        '--minimum-interval-median-percentile 5.0',\n",
    "        f'-O {out_dir}/gatk4scnaPON.Normal.hdf5'\n",
    "    ]\n",
    "    pieces += [f'-I {fp}' for fp in fps]\n",
    "    \n",
    "    cmd = ' '.join(pieces)\n",
    "    return cmd\n"
   ]
  },
  {
   "cell_type": "code",
   "execution_count": 33,
   "id": "8302a686",
   "metadata": {},
   "outputs": [],
   "source": [
    "pool_out_dir = os.path.join(pon_out_dir, 'create_pon')"
   ]
  },
  {
   "cell_type": "code",
   "execution_count": 34,
   "id": "3bb51008",
   "metadata": {
    "scrolled": true
   },
   "outputs": [
    {
     "data": {
      "text/plain": [
       "['/storage1/fs1/dinglab/Active/Projects/estorrs/pecgs_resources/cnv/pon/precall/C3L-00081.N.counts.hdf5',\n",
       " '/storage1/fs1/dinglab/Active/Projects/estorrs/pecgs_resources/cnv/pon/precall/C3L-00137.N.counts.hdf5',\n",
       " '/storage1/fs1/dinglab/Active/Projects/estorrs/pecgs_resources/cnv/pon/precall/C3L-00938.N.counts.hdf5',\n",
       " '/storage1/fs1/dinglab/Active/Projects/estorrs/pecgs_resources/cnv/pon/precall/C3L-01039.N.counts.hdf5',\n",
       " '/storage1/fs1/dinglab/Active/Projects/estorrs/pecgs_resources/cnv/pon/precall/C3L-01232.N.counts.hdf5',\n",
       " '/storage1/fs1/dinglab/Active/Projects/estorrs/pecgs_resources/cnv/pon/precall/C3L-02204.N.counts.hdf5',\n",
       " '/storage1/fs1/dinglab/Active/Projects/estorrs/pecgs_resources/cnv/pon/precall/C3L-02644.N.counts.hdf5',\n",
       " '/storage1/fs1/dinglab/Active/Projects/estorrs/pecgs_resources/cnv/pon/precall/C3L-02662.N.counts.hdf5',\n",
       " '/storage1/fs1/dinglab/Active/Projects/estorrs/pecgs_resources/cnv/pon/precall/C3L-02888.N.counts.hdf5',\n",
       " '/storage1/fs1/dinglab/Active/Projects/estorrs/pecgs_resources/cnv/pon/precall/C3L-02956.N.counts.hdf5',\n",
       " '/storage1/fs1/dinglab/Active/Projects/estorrs/pecgs_resources/cnv/pon/precall/C3L-03348.N.counts.hdf5',\n",
       " '/storage1/fs1/dinglab/Active/Projects/estorrs/pecgs_resources/cnv/pon/precall/C3L-03372.N.counts.hdf5',\n",
       " '/storage1/fs1/dinglab/Active/Projects/estorrs/pecgs_resources/cnv/pon/precall/C3L-03385.N.counts.hdf5',\n",
       " '/storage1/fs1/dinglab/Active/Projects/estorrs/pecgs_resources/cnv/pon/precall/C3L-03622.N.counts.hdf5',\n",
       " '/storage1/fs1/dinglab/Active/Projects/estorrs/pecgs_resources/cnv/pon/precall/C3L-03629.N.counts.hdf5',\n",
       " '/storage1/fs1/dinglab/Active/Projects/estorrs/pecgs_resources/cnv/pon/precall/C3L-03733.N.counts.hdf5',\n",
       " '/storage1/fs1/dinglab/Active/Projects/estorrs/pecgs_resources/cnv/pon/precall/C3L-03735.N.counts.hdf5',\n",
       " '/storage1/fs1/dinglab/Active/Projects/estorrs/pecgs_resources/cnv/pon/precall/C3L-03740.N.counts.hdf5',\n",
       " '/storage1/fs1/dinglab/Active/Projects/estorrs/pecgs_resources/cnv/pon/precall/C3L-04036.N.counts.hdf5',\n",
       " '/storage1/fs1/dinglab/Active/Projects/estorrs/pecgs_resources/cnv/pon/precall/C3L-04038.N.counts.hdf5',\n",
       " '/storage1/fs1/dinglab/Active/Projects/estorrs/pecgs_resources/cnv/pon/precall/C3L-04082.N.counts.hdf5',\n",
       " '/storage1/fs1/dinglab/Active/Projects/estorrs/pecgs_resources/cnv/pon/precall/C3L-04083.N.counts.hdf5',\n",
       " '/storage1/fs1/dinglab/Active/Projects/estorrs/pecgs_resources/cnv/pon/precall/C3L-04085.N.counts.hdf5',\n",
       " '/storage1/fs1/dinglab/Active/Projects/estorrs/pecgs_resources/cnv/pon/precall/C3L-04090.N.counts.hdf5',\n",
       " '/storage1/fs1/dinglab/Active/Projects/estorrs/pecgs_resources/cnv/pon/precall/C3L-04213.N.counts.hdf5',\n",
       " '/storage1/fs1/dinglab/Active/Projects/estorrs/pecgs_resources/cnv/pon/precall/C3L-04339.N.counts.hdf5',\n",
       " '/storage1/fs1/dinglab/Active/Projects/estorrs/pecgs_resources/cnv/pon/precall/C3L-04359.N.counts.hdf5',\n",
       " '/storage1/fs1/dinglab/Active/Projects/estorrs/pecgs_resources/cnv/pon/precall/C3L-04362.N.counts.hdf5',\n",
       " '/storage1/fs1/dinglab/Active/Projects/estorrs/pecgs_resources/cnv/pon/precall/C3L-04392.N.counts.hdf5',\n",
       " '/storage1/fs1/dinglab/Active/Projects/estorrs/pecgs_resources/cnv/pon/precall/C3L-04537.N.counts.hdf5',\n",
       " '/storage1/fs1/dinglab/Active/Projects/estorrs/pecgs_resources/cnv/pon/precall/C3L-04539.N.counts.hdf5',\n",
       " '/storage1/fs1/dinglab/Active/Projects/estorrs/pecgs_resources/cnv/pon/precall/C3L-04731.N.counts.hdf5',\n",
       " '/storage1/fs1/dinglab/Active/Projects/estorrs/pecgs_resources/cnv/pon/precall/C3L-04795.N.counts.hdf5',\n",
       " '/storage1/fs1/dinglab/Active/Projects/estorrs/pecgs_resources/cnv/pon/precall/C3L-05239.N.counts.hdf5',\n",
       " '/storage1/fs1/dinglab/Active/Projects/estorrs/pecgs_resources/cnv/pon/precall/C3N-01385.N.counts.hdf5',\n",
       " '/storage1/fs1/dinglab/Active/Projects/estorrs/pecgs_resources/cnv/pon/precall/C3N-01849.N.counts.hdf5',\n",
       " '/storage1/fs1/dinglab/Active/Projects/estorrs/pecgs_resources/cnv/pon/precall/C3N-01898.N.counts.hdf5',\n",
       " '/storage1/fs1/dinglab/Active/Projects/estorrs/pecgs_resources/cnv/pon/precall/C3N-01899.N.counts.hdf5',\n",
       " '/storage1/fs1/dinglab/Active/Projects/estorrs/pecgs_resources/cnv/pon/precall/C3N-02259.N.counts.hdf5',\n",
       " '/storage1/fs1/dinglab/Active/Projects/estorrs/pecgs_resources/cnv/pon/precall/C3N-02286.N.counts.hdf5',\n",
       " '/storage1/fs1/dinglab/Active/Projects/estorrs/pecgs_resources/cnv/pon/precall/C3N-02594.N.counts.hdf5',\n",
       " '/storage1/fs1/dinglab/Active/Projects/estorrs/pecgs_resources/cnv/pon/precall/C3N-02599.N.counts.hdf5',\n",
       " '/storage1/fs1/dinglab/Active/Projects/estorrs/pecgs_resources/cnv/pon/precall/C3N-02681.N.counts.hdf5',\n",
       " '/storage1/fs1/dinglab/Active/Projects/estorrs/pecgs_resources/cnv/pon/precall/C3N-02682.N.counts.hdf5',\n",
       " '/storage1/fs1/dinglab/Active/Projects/estorrs/pecgs_resources/cnv/pon/precall/C3N-02683.N.counts.hdf5',\n",
       " '/storage1/fs1/dinglab/Active/Projects/estorrs/pecgs_resources/cnv/pon/precall/C3N-02696.N.counts.hdf5',\n",
       " '/storage1/fs1/dinglab/Active/Projects/estorrs/pecgs_resources/cnv/pon/precall/C3N-02754.N.counts.hdf5',\n",
       " '/storage1/fs1/dinglab/Active/Projects/estorrs/pecgs_resources/cnv/pon/precall/C3N-02765.N.counts.hdf5',\n",
       " '/storage1/fs1/dinglab/Active/Projects/estorrs/pecgs_resources/cnv/pon/precall/C3N-02930.N.counts.hdf5',\n",
       " '/storage1/fs1/dinglab/Active/Projects/estorrs/pecgs_resources/cnv/pon/precall/C3N-02996.N.counts.hdf5',\n",
       " '/storage1/fs1/dinglab/Active/Projects/estorrs/pecgs_resources/cnv/pon/precall/C3N-03001.N.counts.hdf5',\n",
       " '/storage1/fs1/dinglab/Active/Projects/estorrs/pecgs_resources/cnv/pon/precall/C3N-03003.N.counts.hdf5',\n",
       " '/storage1/fs1/dinglab/Active/Projects/estorrs/pecgs_resources/cnv/pon/precall/C3N-03025.N.counts.hdf5',\n",
       " '/storage1/fs1/dinglab/Active/Projects/estorrs/pecgs_resources/cnv/pon/precall/C3N-03448.N.counts.hdf5',\n",
       " '/storage1/fs1/dinglab/Active/Projects/estorrs/pecgs_resources/cnv/pon/precall/C3N-03449.N.counts.hdf5',\n",
       " '/storage1/fs1/dinglab/Active/Projects/estorrs/pecgs_resources/cnv/pon/precall/C3N-03452.N.counts.hdf5',\n",
       " '/storage1/fs1/dinglab/Active/Projects/estorrs/pecgs_resources/cnv/pon/precall/C3N-03453.N.counts.hdf5',\n",
       " '/storage1/fs1/dinglab/Active/Projects/estorrs/pecgs_resources/cnv/pon/precall/C3N-03480.N.counts.hdf5',\n",
       " '/storage1/fs1/dinglab/Active/Projects/estorrs/pecgs_resources/cnv/pon/precall/C3N-03484.N.counts.hdf5',\n",
       " '/storage1/fs1/dinglab/Active/Projects/estorrs/pecgs_resources/cnv/pon/precall/C3N-03755.N.counts.hdf5',\n",
       " '/storage1/fs1/dinglab/Active/Projects/estorrs/pecgs_resources/cnv/pon/precall/C3N-03756.N.counts.hdf5',\n",
       " '/storage1/fs1/dinglab/Active/Projects/estorrs/pecgs_resources/cnv/pon/precall/C3N-03757.N.counts.hdf5',\n",
       " '/storage1/fs1/dinglab/Active/Projects/estorrs/pecgs_resources/cnv/pon/precall/C3N-03789.N.counts.hdf5',\n",
       " '/storage1/fs1/dinglab/Active/Projects/estorrs/pecgs_resources/cnv/pon/precall/C3N-03791.N.counts.hdf5',\n",
       " '/storage1/fs1/dinglab/Active/Projects/estorrs/pecgs_resources/cnv/pon/precall/C3N-03792.N.counts.hdf5',\n",
       " '/storage1/fs1/dinglab/Active/Projects/estorrs/pecgs_resources/cnv/pon/precall/C3N-03796.N.counts.hdf5',\n",
       " '/storage1/fs1/dinglab/Active/Projects/estorrs/pecgs_resources/cnv/pon/precall/C3N-03797.N.counts.hdf5',\n",
       " '/storage1/fs1/dinglab/Active/Projects/estorrs/pecgs_resources/cnv/pon/precall/C3N-03800.N.counts.hdf5',\n",
       " '/storage1/fs1/dinglab/Active/Projects/estorrs/pecgs_resources/cnv/pon/precall/C3N-03802.N.counts.hdf5',\n",
       " '/storage1/fs1/dinglab/Active/Projects/estorrs/pecgs_resources/cnv/pon/precall/C3N-03810.N.counts.hdf5',\n",
       " '/storage1/fs1/dinglab/Active/Projects/estorrs/pecgs_resources/cnv/pon/precall/C3N-03935.N.counts.hdf5',\n",
       " '/storage1/fs1/dinglab/Active/Projects/estorrs/pecgs_resources/cnv/pon/precall/C3N-03939.N.counts.hdf5',\n",
       " '/storage1/fs1/dinglab/Active/Projects/estorrs/pecgs_resources/cnv/pon/precall/C3N-04092.N.counts.hdf5',\n",
       " '/storage1/fs1/dinglab/Active/Projects/estorrs/pecgs_resources/cnv/pon/precall/C3N-04094.N.counts.hdf5',\n",
       " '/storage1/fs1/dinglab/Active/Projects/estorrs/pecgs_resources/cnv/pon/precall/C3N-04097.N.counts.hdf5',\n",
       " '/storage1/fs1/dinglab/Active/Projects/estorrs/pecgs_resources/cnv/pon/precall/C3N-04098.N.counts.hdf5',\n",
       " '/storage1/fs1/dinglab/Active/Projects/estorrs/pecgs_resources/cnv/pon/precall/C3N-04100.N.counts.hdf5',\n",
       " '/storage1/fs1/dinglab/Active/Projects/estorrs/pecgs_resources/cnv/pon/precall/C3N-04312.N.counts.hdf5',\n",
       " '/storage1/fs1/dinglab/Active/Projects/estorrs/pecgs_resources/cnv/pon/precall/C3N-04683.N.counts.hdf5',\n",
       " '/storage1/fs1/dinglab/Active/Projects/estorrs/pecgs_resources/cnv/pon/precall/C3N-04686.N.counts.hdf5',\n",
       " '/storage1/fs1/dinglab/Active/Projects/estorrs/pecgs_resources/cnv/pon/precall/C3N-04687.N.counts.hdf5',\n",
       " '/storage1/fs1/dinglab/Active/Projects/estorrs/pecgs_resources/cnv/pon/precall/C3N-04691.N.counts.hdf5',\n",
       " '/storage1/fs1/dinglab/Active/Projects/estorrs/pecgs_resources/cnv/pon/precall/C3N-04693.N.counts.hdf5',\n",
       " '/storage1/fs1/dinglab/Active/Projects/estorrs/pecgs_resources/cnv/pon/precall/C3N-04695.N.counts.hdf5',\n",
       " '/storage1/fs1/dinglab/Active/Projects/estorrs/pecgs_resources/cnv/pon/precall/C3N-05039.N.counts.hdf5',\n",
       " '/storage1/fs1/dinglab/Active/Projects/estorrs/pecgs_resources/cnv/pon/precall/C3N-05114.N.counts.hdf5',\n",
       " '/storage1/fs1/dinglab/Active/Projects/estorrs/pecgs_resources/cnv/pon/precall/C3N-05135.N.counts.hdf5']"
      ]
     },
     "execution_count": 34,
     "metadata": {},
     "output_type": "execute_result"
    }
   ],
   "source": [
    "fps = [f'{precall_out_dir}/{s}.N.counts.hdf5' for s in df['case'].to_list()]\n",
    "fps"
   ]
  },
  {
   "cell_type": "code",
   "execution_count": 36,
   "id": "67a3b012",
   "metadata": {
    "scrolled": true
   },
   "outputs": [
    {
     "data": {
      "text/plain": [
       "'export PATH=/miniconda/envs/cnv/bin:$PATH && gatk CreateReadCountPanelOfNormals --minimum-interval-median-percentile 5.0 -O /storage1/fs1/dinglab/Active/Projects/estorrs/pecgs_resources/cnv/pon/create_pon/gatk4scnaPON.Normal.hdf5 -I /storage1/fs1/dinglab/Active/Projects/estorrs/pecgs_resources/cnv/pon/precall/C3L-00081.N.counts.hdf5 -I /storage1/fs1/dinglab/Active/Projects/estorrs/pecgs_resources/cnv/pon/precall/C3L-00137.N.counts.hdf5 -I /storage1/fs1/dinglab/Active/Projects/estorrs/pecgs_resources/cnv/pon/precall/C3L-00938.N.counts.hdf5 -I /storage1/fs1/dinglab/Active/Projects/estorrs/pecgs_resources/cnv/pon/precall/C3L-01039.N.counts.hdf5 -I /storage1/fs1/dinglab/Active/Projects/estorrs/pecgs_resources/cnv/pon/precall/C3L-01232.N.counts.hdf5 -I /storage1/fs1/dinglab/Active/Projects/estorrs/pecgs_resources/cnv/pon/precall/C3L-02204.N.counts.hdf5 -I /storage1/fs1/dinglab/Active/Projects/estorrs/pecgs_resources/cnv/pon/precall/C3L-02644.N.counts.hdf5 -I /storage1/fs1/dinglab/Active/Projects/estorrs/pecgs_resources/cnv/pon/precall/C3L-02662.N.counts.hdf5 -I /storage1/fs1/dinglab/Active/Projects/estorrs/pecgs_resources/cnv/pon/precall/C3L-02888.N.counts.hdf5 -I /storage1/fs1/dinglab/Active/Projects/estorrs/pecgs_resources/cnv/pon/precall/C3L-02956.N.counts.hdf5 -I /storage1/fs1/dinglab/Active/Projects/estorrs/pecgs_resources/cnv/pon/precall/C3L-03348.N.counts.hdf5 -I /storage1/fs1/dinglab/Active/Projects/estorrs/pecgs_resources/cnv/pon/precall/C3L-03372.N.counts.hdf5 -I /storage1/fs1/dinglab/Active/Projects/estorrs/pecgs_resources/cnv/pon/precall/C3L-03385.N.counts.hdf5 -I /storage1/fs1/dinglab/Active/Projects/estorrs/pecgs_resources/cnv/pon/precall/C3L-03622.N.counts.hdf5 -I /storage1/fs1/dinglab/Active/Projects/estorrs/pecgs_resources/cnv/pon/precall/C3L-03629.N.counts.hdf5 -I /storage1/fs1/dinglab/Active/Projects/estorrs/pecgs_resources/cnv/pon/precall/C3L-03733.N.counts.hdf5 -I /storage1/fs1/dinglab/Active/Projects/estorrs/pecgs_resources/cnv/pon/precall/C3L-03735.N.counts.hdf5 -I /storage1/fs1/dinglab/Active/Projects/estorrs/pecgs_resources/cnv/pon/precall/C3L-03740.N.counts.hdf5 -I /storage1/fs1/dinglab/Active/Projects/estorrs/pecgs_resources/cnv/pon/precall/C3L-04036.N.counts.hdf5 -I /storage1/fs1/dinglab/Active/Projects/estorrs/pecgs_resources/cnv/pon/precall/C3L-04038.N.counts.hdf5 -I /storage1/fs1/dinglab/Active/Projects/estorrs/pecgs_resources/cnv/pon/precall/C3L-04082.N.counts.hdf5 -I /storage1/fs1/dinglab/Active/Projects/estorrs/pecgs_resources/cnv/pon/precall/C3L-04083.N.counts.hdf5 -I /storage1/fs1/dinglab/Active/Projects/estorrs/pecgs_resources/cnv/pon/precall/C3L-04085.N.counts.hdf5 -I /storage1/fs1/dinglab/Active/Projects/estorrs/pecgs_resources/cnv/pon/precall/C3L-04090.N.counts.hdf5 -I /storage1/fs1/dinglab/Active/Projects/estorrs/pecgs_resources/cnv/pon/precall/C3L-04213.N.counts.hdf5 -I /storage1/fs1/dinglab/Active/Projects/estorrs/pecgs_resources/cnv/pon/precall/C3L-04339.N.counts.hdf5 -I /storage1/fs1/dinglab/Active/Projects/estorrs/pecgs_resources/cnv/pon/precall/C3L-04359.N.counts.hdf5 -I /storage1/fs1/dinglab/Active/Projects/estorrs/pecgs_resources/cnv/pon/precall/C3L-04362.N.counts.hdf5 -I /storage1/fs1/dinglab/Active/Projects/estorrs/pecgs_resources/cnv/pon/precall/C3L-04392.N.counts.hdf5 -I /storage1/fs1/dinglab/Active/Projects/estorrs/pecgs_resources/cnv/pon/precall/C3L-04537.N.counts.hdf5 -I /storage1/fs1/dinglab/Active/Projects/estorrs/pecgs_resources/cnv/pon/precall/C3L-04539.N.counts.hdf5 -I /storage1/fs1/dinglab/Active/Projects/estorrs/pecgs_resources/cnv/pon/precall/C3L-04731.N.counts.hdf5 -I /storage1/fs1/dinglab/Active/Projects/estorrs/pecgs_resources/cnv/pon/precall/C3L-04795.N.counts.hdf5 -I /storage1/fs1/dinglab/Active/Projects/estorrs/pecgs_resources/cnv/pon/precall/C3L-05239.N.counts.hdf5 -I /storage1/fs1/dinglab/Active/Projects/estorrs/pecgs_resources/cnv/pon/precall/C3N-01385.N.counts.hdf5 -I /storage1/fs1/dinglab/Active/Projects/estorrs/pecgs_resources/cnv/pon/precall/C3N-01849.N.counts.hdf5 -I /storage1/fs1/dinglab/Active/Projects/estorrs/pecgs_resources/cnv/pon/precall/C3N-01898.N.counts.hdf5 -I /storage1/fs1/dinglab/Active/Projects/estorrs/pecgs_resources/cnv/pon/precall/C3N-01899.N.counts.hdf5 -I /storage1/fs1/dinglab/Active/Projects/estorrs/pecgs_resources/cnv/pon/precall/C3N-02259.N.counts.hdf5 -I /storage1/fs1/dinglab/Active/Projects/estorrs/pecgs_resources/cnv/pon/precall/C3N-02286.N.counts.hdf5 -I /storage1/fs1/dinglab/Active/Projects/estorrs/pecgs_resources/cnv/pon/precall/C3N-02594.N.counts.hdf5 -I /storage1/fs1/dinglab/Active/Projects/estorrs/pecgs_resources/cnv/pon/precall/C3N-02599.N.counts.hdf5 -I /storage1/fs1/dinglab/Active/Projects/estorrs/pecgs_resources/cnv/pon/precall/C3N-02681.N.counts.hdf5 -I /storage1/fs1/dinglab/Active/Projects/estorrs/pecgs_resources/cnv/pon/precall/C3N-02682.N.counts.hdf5 -I /storage1/fs1/dinglab/Active/Projects/estorrs/pecgs_resources/cnv/pon/precall/C3N-02683.N.counts.hdf5 -I /storage1/fs1/dinglab/Active/Projects/estorrs/pecgs_resources/cnv/pon/precall/C3N-02696.N.counts.hdf5 -I /storage1/fs1/dinglab/Active/Projects/estorrs/pecgs_resources/cnv/pon/precall/C3N-02754.N.counts.hdf5 -I /storage1/fs1/dinglab/Active/Projects/estorrs/pecgs_resources/cnv/pon/precall/C3N-02765.N.counts.hdf5 -I /storage1/fs1/dinglab/Active/Projects/estorrs/pecgs_resources/cnv/pon/precall/C3N-02930.N.counts.hdf5 -I /storage1/fs1/dinglab/Active/Projects/estorrs/pecgs_resources/cnv/pon/precall/C3N-02996.N.counts.hdf5 -I /storage1/fs1/dinglab/Active/Projects/estorrs/pecgs_resources/cnv/pon/precall/C3N-03001.N.counts.hdf5 -I /storage1/fs1/dinglab/Active/Projects/estorrs/pecgs_resources/cnv/pon/precall/C3N-03003.N.counts.hdf5 -I /storage1/fs1/dinglab/Active/Projects/estorrs/pecgs_resources/cnv/pon/precall/C3N-03025.N.counts.hdf5 -I /storage1/fs1/dinglab/Active/Projects/estorrs/pecgs_resources/cnv/pon/precall/C3N-03448.N.counts.hdf5 -I /storage1/fs1/dinglab/Active/Projects/estorrs/pecgs_resources/cnv/pon/precall/C3N-03449.N.counts.hdf5 -I /storage1/fs1/dinglab/Active/Projects/estorrs/pecgs_resources/cnv/pon/precall/C3N-03452.N.counts.hdf5 -I /storage1/fs1/dinglab/Active/Projects/estorrs/pecgs_resources/cnv/pon/precall/C3N-03453.N.counts.hdf5 -I /storage1/fs1/dinglab/Active/Projects/estorrs/pecgs_resources/cnv/pon/precall/C3N-03480.N.counts.hdf5 -I /storage1/fs1/dinglab/Active/Projects/estorrs/pecgs_resources/cnv/pon/precall/C3N-03484.N.counts.hdf5 -I /storage1/fs1/dinglab/Active/Projects/estorrs/pecgs_resources/cnv/pon/precall/C3N-03755.N.counts.hdf5 -I /storage1/fs1/dinglab/Active/Projects/estorrs/pecgs_resources/cnv/pon/precall/C3N-03756.N.counts.hdf5 -I /storage1/fs1/dinglab/Active/Projects/estorrs/pecgs_resources/cnv/pon/precall/C3N-03757.N.counts.hdf5 -I /storage1/fs1/dinglab/Active/Projects/estorrs/pecgs_resources/cnv/pon/precall/C3N-03789.N.counts.hdf5 -I /storage1/fs1/dinglab/Active/Projects/estorrs/pecgs_resources/cnv/pon/precall/C3N-03791.N.counts.hdf5 -I /storage1/fs1/dinglab/Active/Projects/estorrs/pecgs_resources/cnv/pon/precall/C3N-03792.N.counts.hdf5 -I /storage1/fs1/dinglab/Active/Projects/estorrs/pecgs_resources/cnv/pon/precall/C3N-03796.N.counts.hdf5 -I /storage1/fs1/dinglab/Active/Projects/estorrs/pecgs_resources/cnv/pon/precall/C3N-03797.N.counts.hdf5 -I /storage1/fs1/dinglab/Active/Projects/estorrs/pecgs_resources/cnv/pon/precall/C3N-03800.N.counts.hdf5 -I /storage1/fs1/dinglab/Active/Projects/estorrs/pecgs_resources/cnv/pon/precall/C3N-03802.N.counts.hdf5 -I /storage1/fs1/dinglab/Active/Projects/estorrs/pecgs_resources/cnv/pon/precall/C3N-03810.N.counts.hdf5 -I /storage1/fs1/dinglab/Active/Projects/estorrs/pecgs_resources/cnv/pon/precall/C3N-03935.N.counts.hdf5 -I /storage1/fs1/dinglab/Active/Projects/estorrs/pecgs_resources/cnv/pon/precall/C3N-03939.N.counts.hdf5 -I /storage1/fs1/dinglab/Active/Projects/estorrs/pecgs_resources/cnv/pon/precall/C3N-04092.N.counts.hdf5 -I /storage1/fs1/dinglab/Active/Projects/estorrs/pecgs_resources/cnv/pon/precall/C3N-04094.N.counts.hdf5 -I /storage1/fs1/dinglab/Active/Projects/estorrs/pecgs_resources/cnv/pon/precall/C3N-04097.N.counts.hdf5 -I /storage1/fs1/dinglab/Active/Projects/estorrs/pecgs_resources/cnv/pon/precall/C3N-04098.N.counts.hdf5 -I /storage1/fs1/dinglab/Active/Projects/estorrs/pecgs_resources/cnv/pon/precall/C3N-04100.N.counts.hdf5 -I /storage1/fs1/dinglab/Active/Projects/estorrs/pecgs_resources/cnv/pon/precall/C3N-04312.N.counts.hdf5 -I /storage1/fs1/dinglab/Active/Projects/estorrs/pecgs_resources/cnv/pon/precall/C3N-04683.N.counts.hdf5 -I /storage1/fs1/dinglab/Active/Projects/estorrs/pecgs_resources/cnv/pon/precall/C3N-04686.N.counts.hdf5 -I /storage1/fs1/dinglab/Active/Projects/estorrs/pecgs_resources/cnv/pon/precall/C3N-04687.N.counts.hdf5 -I /storage1/fs1/dinglab/Active/Projects/estorrs/pecgs_resources/cnv/pon/precall/C3N-04691.N.counts.hdf5 -I /storage1/fs1/dinglab/Active/Projects/estorrs/pecgs_resources/cnv/pon/precall/C3N-04693.N.counts.hdf5 -I /storage1/fs1/dinglab/Active/Projects/estorrs/pecgs_resources/cnv/pon/precall/C3N-04695.N.counts.hdf5 -I /storage1/fs1/dinglab/Active/Projects/estorrs/pecgs_resources/cnv/pon/precall/C3N-05039.N.counts.hdf5 -I /storage1/fs1/dinglab/Active/Projects/estorrs/pecgs_resources/cnv/pon/precall/C3N-05114.N.counts.hdf5 -I /storage1/fs1/dinglab/Active/Projects/estorrs/pecgs_resources/cnv/pon/precall/C3N-05135.N.counts.hdf5'"
      ]
     },
     "execution_count": 36,
     "metadata": {},
     "output_type": "execute_result"
    }
   ],
   "source": [
    "cmd = f'export PATH=/miniconda/envs/cnv/bin:$PATH && ' + get_pool_command(df['case'], fps, pool_out_dir)\n",
    "cmd"
   ]
  },
  {
   "cell_type": "code",
   "execution_count": 38,
   "id": "90a5aaf3",
   "metadata": {
    "scrolled": true
   },
   "outputs": [
    {
     "name": "stdout",
     "output_type": "stream",
     "text": [
      "Failed to create log dir /storage1/fs1/dinglab/Active/Projects/estorrs/pecgs_resources/cnv/pon/create_pon\n"
     ]
    },
    {
     "data": {
      "text/plain": [
       "['export LSF_DOCKER_VOLUMES=\"/storage1/fs1/m.wyczalkowski/Active:/storage1/fs1/m.wyczalkowski/Active /storage1/fs1/dinglab/Active:/storage1/fs1/dinglab/Active /storage1/fs1/dinglab/Active/Projects/estorrs/pecgs_resources/cnv/pon/create_pon:/storage1/fs1/dinglab/Active/Projects/estorrs/pecgs_resources/cnv/pon/create_pon\"',\n",
       " 'bgadd -L 25 /estorrs/pecgs-25',\n",
       " \"bsub -R 'rusage[mem=28GB]' -M 28GB -q dinglab -G compute-dinglab -a 'docker(estorrs/pecgs_cnv:0.0.1)' -g /estorrs/pecgs-25 -J create_pon -oo /storage1/fs1/dinglab/Active/Projects/estorrs/pecgs_resources/cnv/pon/create_pon/create_pon.txt 'export PATH=/miniconda/envs/cnv/bin:$PATH && gatk CreateReadCountPanelOfNormals --minimum-interval-median-percentile 5.0 -O /storage1/fs1/dinglab/Active/Projects/estorrs/pecgs_resources/cnv/pon/create_pon/gatk4scnaPON.Normal.hdf5 -I /storage1/fs1/dinglab/Active/Projects/estorrs/pecgs_resources/cnv/pon/precall/C3L-00081.N.counts.hdf5 -I /storage1/fs1/dinglab/Active/Projects/estorrs/pecgs_resources/cnv/pon/precall/C3L-00137.N.counts.hdf5 -I /storage1/fs1/dinglab/Active/Projects/estorrs/pecgs_resources/cnv/pon/precall/C3L-00938.N.counts.hdf5 -I /storage1/fs1/dinglab/Active/Projects/estorrs/pecgs_resources/cnv/pon/precall/C3L-01039.N.counts.hdf5 -I /storage1/fs1/dinglab/Active/Projects/estorrs/pecgs_resources/cnv/pon/precall/C3L-01232.N.counts.hdf5 -I /storage1/fs1/dinglab/Active/Projects/estorrs/pecgs_resources/cnv/pon/precall/C3L-02204.N.counts.hdf5 -I /storage1/fs1/dinglab/Active/Projects/estorrs/pecgs_resources/cnv/pon/precall/C3L-02644.N.counts.hdf5 -I /storage1/fs1/dinglab/Active/Projects/estorrs/pecgs_resources/cnv/pon/precall/C3L-02662.N.counts.hdf5 -I /storage1/fs1/dinglab/Active/Projects/estorrs/pecgs_resources/cnv/pon/precall/C3L-02888.N.counts.hdf5 -I /storage1/fs1/dinglab/Active/Projects/estorrs/pecgs_resources/cnv/pon/precall/C3L-02956.N.counts.hdf5 -I /storage1/fs1/dinglab/Active/Projects/estorrs/pecgs_resources/cnv/pon/precall/C3L-03348.N.counts.hdf5 -I /storage1/fs1/dinglab/Active/Projects/estorrs/pecgs_resources/cnv/pon/precall/C3L-03372.N.counts.hdf5 -I /storage1/fs1/dinglab/Active/Projects/estorrs/pecgs_resources/cnv/pon/precall/C3L-03385.N.counts.hdf5 -I /storage1/fs1/dinglab/Active/Projects/estorrs/pecgs_resources/cnv/pon/precall/C3L-03622.N.counts.hdf5 -I /storage1/fs1/dinglab/Active/Projects/estorrs/pecgs_resources/cnv/pon/precall/C3L-03629.N.counts.hdf5 -I /storage1/fs1/dinglab/Active/Projects/estorrs/pecgs_resources/cnv/pon/precall/C3L-03733.N.counts.hdf5 -I /storage1/fs1/dinglab/Active/Projects/estorrs/pecgs_resources/cnv/pon/precall/C3L-03735.N.counts.hdf5 -I /storage1/fs1/dinglab/Active/Projects/estorrs/pecgs_resources/cnv/pon/precall/C3L-03740.N.counts.hdf5 -I /storage1/fs1/dinglab/Active/Projects/estorrs/pecgs_resources/cnv/pon/precall/C3L-04036.N.counts.hdf5 -I /storage1/fs1/dinglab/Active/Projects/estorrs/pecgs_resources/cnv/pon/precall/C3L-04038.N.counts.hdf5 -I /storage1/fs1/dinglab/Active/Projects/estorrs/pecgs_resources/cnv/pon/precall/C3L-04082.N.counts.hdf5 -I /storage1/fs1/dinglab/Active/Projects/estorrs/pecgs_resources/cnv/pon/precall/C3L-04083.N.counts.hdf5 -I /storage1/fs1/dinglab/Active/Projects/estorrs/pecgs_resources/cnv/pon/precall/C3L-04085.N.counts.hdf5 -I /storage1/fs1/dinglab/Active/Projects/estorrs/pecgs_resources/cnv/pon/precall/C3L-04090.N.counts.hdf5 -I /storage1/fs1/dinglab/Active/Projects/estorrs/pecgs_resources/cnv/pon/precall/C3L-04213.N.counts.hdf5 -I /storage1/fs1/dinglab/Active/Projects/estorrs/pecgs_resources/cnv/pon/precall/C3L-04339.N.counts.hdf5 -I /storage1/fs1/dinglab/Active/Projects/estorrs/pecgs_resources/cnv/pon/precall/C3L-04359.N.counts.hdf5 -I /storage1/fs1/dinglab/Active/Projects/estorrs/pecgs_resources/cnv/pon/precall/C3L-04362.N.counts.hdf5 -I /storage1/fs1/dinglab/Active/Projects/estorrs/pecgs_resources/cnv/pon/precall/C3L-04392.N.counts.hdf5 -I /storage1/fs1/dinglab/Active/Projects/estorrs/pecgs_resources/cnv/pon/precall/C3L-04537.N.counts.hdf5 -I /storage1/fs1/dinglab/Active/Projects/estorrs/pecgs_resources/cnv/pon/precall/C3L-04539.N.counts.hdf5 -I /storage1/fs1/dinglab/Active/Projects/estorrs/pecgs_resources/cnv/pon/precall/C3L-04731.N.counts.hdf5 -I /storage1/fs1/dinglab/Active/Projects/estorrs/pecgs_resources/cnv/pon/precall/C3L-04795.N.counts.hdf5 -I /storage1/fs1/dinglab/Active/Projects/estorrs/pecgs_resources/cnv/pon/precall/C3L-05239.N.counts.hdf5 -I /storage1/fs1/dinglab/Active/Projects/estorrs/pecgs_resources/cnv/pon/precall/C3N-01385.N.counts.hdf5 -I /storage1/fs1/dinglab/Active/Projects/estorrs/pecgs_resources/cnv/pon/precall/C3N-01849.N.counts.hdf5 -I /storage1/fs1/dinglab/Active/Projects/estorrs/pecgs_resources/cnv/pon/precall/C3N-01898.N.counts.hdf5 -I /storage1/fs1/dinglab/Active/Projects/estorrs/pecgs_resources/cnv/pon/precall/C3N-01899.N.counts.hdf5 -I /storage1/fs1/dinglab/Active/Projects/estorrs/pecgs_resources/cnv/pon/precall/C3N-02259.N.counts.hdf5 -I /storage1/fs1/dinglab/Active/Projects/estorrs/pecgs_resources/cnv/pon/precall/C3N-02286.N.counts.hdf5 -I /storage1/fs1/dinglab/Active/Projects/estorrs/pecgs_resources/cnv/pon/precall/C3N-02594.N.counts.hdf5 -I /storage1/fs1/dinglab/Active/Projects/estorrs/pecgs_resources/cnv/pon/precall/C3N-02599.N.counts.hdf5 -I /storage1/fs1/dinglab/Active/Projects/estorrs/pecgs_resources/cnv/pon/precall/C3N-02681.N.counts.hdf5 -I /storage1/fs1/dinglab/Active/Projects/estorrs/pecgs_resources/cnv/pon/precall/C3N-02682.N.counts.hdf5 -I /storage1/fs1/dinglab/Active/Projects/estorrs/pecgs_resources/cnv/pon/precall/C3N-02683.N.counts.hdf5 -I /storage1/fs1/dinglab/Active/Projects/estorrs/pecgs_resources/cnv/pon/precall/C3N-02696.N.counts.hdf5 -I /storage1/fs1/dinglab/Active/Projects/estorrs/pecgs_resources/cnv/pon/precall/C3N-02754.N.counts.hdf5 -I /storage1/fs1/dinglab/Active/Projects/estorrs/pecgs_resources/cnv/pon/precall/C3N-02765.N.counts.hdf5 -I /storage1/fs1/dinglab/Active/Projects/estorrs/pecgs_resources/cnv/pon/precall/C3N-02930.N.counts.hdf5 -I /storage1/fs1/dinglab/Active/Projects/estorrs/pecgs_resources/cnv/pon/precall/C3N-02996.N.counts.hdf5 -I /storage1/fs1/dinglab/Active/Projects/estorrs/pecgs_resources/cnv/pon/precall/C3N-03001.N.counts.hdf5 -I /storage1/fs1/dinglab/Active/Projects/estorrs/pecgs_resources/cnv/pon/precall/C3N-03003.N.counts.hdf5 -I /storage1/fs1/dinglab/Active/Projects/estorrs/pecgs_resources/cnv/pon/precall/C3N-03025.N.counts.hdf5 -I /storage1/fs1/dinglab/Active/Projects/estorrs/pecgs_resources/cnv/pon/precall/C3N-03448.N.counts.hdf5 -I /storage1/fs1/dinglab/Active/Projects/estorrs/pecgs_resources/cnv/pon/precall/C3N-03449.N.counts.hdf5 -I /storage1/fs1/dinglab/Active/Projects/estorrs/pecgs_resources/cnv/pon/precall/C3N-03452.N.counts.hdf5 -I /storage1/fs1/dinglab/Active/Projects/estorrs/pecgs_resources/cnv/pon/precall/C3N-03453.N.counts.hdf5 -I /storage1/fs1/dinglab/Active/Projects/estorrs/pecgs_resources/cnv/pon/precall/C3N-03480.N.counts.hdf5 -I /storage1/fs1/dinglab/Active/Projects/estorrs/pecgs_resources/cnv/pon/precall/C3N-03484.N.counts.hdf5 -I /storage1/fs1/dinglab/Active/Projects/estorrs/pecgs_resources/cnv/pon/precall/C3N-03755.N.counts.hdf5 -I /storage1/fs1/dinglab/Active/Projects/estorrs/pecgs_resources/cnv/pon/precall/C3N-03756.N.counts.hdf5 -I /storage1/fs1/dinglab/Active/Projects/estorrs/pecgs_resources/cnv/pon/precall/C3N-03757.N.counts.hdf5 -I /storage1/fs1/dinglab/Active/Projects/estorrs/pecgs_resources/cnv/pon/precall/C3N-03789.N.counts.hdf5 -I /storage1/fs1/dinglab/Active/Projects/estorrs/pecgs_resources/cnv/pon/precall/C3N-03791.N.counts.hdf5 -I /storage1/fs1/dinglab/Active/Projects/estorrs/pecgs_resources/cnv/pon/precall/C3N-03792.N.counts.hdf5 -I /storage1/fs1/dinglab/Active/Projects/estorrs/pecgs_resources/cnv/pon/precall/C3N-03796.N.counts.hdf5 -I /storage1/fs1/dinglab/Active/Projects/estorrs/pecgs_resources/cnv/pon/precall/C3N-03797.N.counts.hdf5 -I /storage1/fs1/dinglab/Active/Projects/estorrs/pecgs_resources/cnv/pon/precall/C3N-03800.N.counts.hdf5 -I /storage1/fs1/dinglab/Active/Projects/estorrs/pecgs_resources/cnv/pon/precall/C3N-03802.N.counts.hdf5 -I /storage1/fs1/dinglab/Active/Projects/estorrs/pecgs_resources/cnv/pon/precall/C3N-03810.N.counts.hdf5 -I /storage1/fs1/dinglab/Active/Projects/estorrs/pecgs_resources/cnv/pon/precall/C3N-03935.N.counts.hdf5 -I /storage1/fs1/dinglab/Active/Projects/estorrs/pecgs_resources/cnv/pon/precall/C3N-03939.N.counts.hdf5 -I /storage1/fs1/dinglab/Active/Projects/estorrs/pecgs_resources/cnv/pon/precall/C3N-04092.N.counts.hdf5 -I /storage1/fs1/dinglab/Active/Projects/estorrs/pecgs_resources/cnv/pon/precall/C3N-04094.N.counts.hdf5 -I /storage1/fs1/dinglab/Active/Projects/estorrs/pecgs_resources/cnv/pon/precall/C3N-04097.N.counts.hdf5 -I /storage1/fs1/dinglab/Active/Projects/estorrs/pecgs_resources/cnv/pon/precall/C3N-04098.N.counts.hdf5 -I /storage1/fs1/dinglab/Active/Projects/estorrs/pecgs_resources/cnv/pon/precall/C3N-04100.N.counts.hdf5 -I /storage1/fs1/dinglab/Active/Projects/estorrs/pecgs_resources/cnv/pon/precall/C3N-04312.N.counts.hdf5 -I /storage1/fs1/dinglab/Active/Projects/estorrs/pecgs_resources/cnv/pon/precall/C3N-04683.N.counts.hdf5 -I /storage1/fs1/dinglab/Active/Projects/estorrs/pecgs_resources/cnv/pon/precall/C3N-04686.N.counts.hdf5 -I /storage1/fs1/dinglab/Active/Projects/estorrs/pecgs_resources/cnv/pon/precall/C3N-04687.N.counts.hdf5 -I /storage1/fs1/dinglab/Active/Projects/estorrs/pecgs_resources/cnv/pon/precall/C3N-04691.N.counts.hdf5 -I /storage1/fs1/dinglab/Active/Projects/estorrs/pecgs_resources/cnv/pon/precall/C3N-04693.N.counts.hdf5 -I /storage1/fs1/dinglab/Active/Projects/estorrs/pecgs_resources/cnv/pon/precall/C3N-04695.N.counts.hdf5 -I /storage1/fs1/dinglab/Active/Projects/estorrs/pecgs_resources/cnv/pon/precall/C3N-05039.N.counts.hdf5 -I /storage1/fs1/dinglab/Active/Projects/estorrs/pecgs_resources/cnv/pon/precall/C3N-05114.N.counts.hdf5 -I /storage1/fs1/dinglab/Active/Projects/estorrs/pecgs_resources/cnv/pon/precall/C3N-05135.N.counts.hdf5'\"]"
      ]
     },
     "execution_count": 38,
     "metadata": {},
     "output_type": "execute_result"
    }
   ],
   "source": [
    "job_names = [f'create_pon']\n",
    "volumes = ['/storage1/fs1/m.wyczalkowski/Active', '/storage1/fs1/dinglab/Active']\n",
    "bsub_commands = bsub.batch_bsub_commands([cmd], ['create_pon'], pool_out_dir, args, volumes=volumes)\n",
    "bsub_commands"
   ]
  },
  {
   "cell_type": "code",
   "execution_count": null,
   "id": "9403ee1c",
   "metadata": {},
   "outputs": [],
   "source": [
    "bsub.write_command_file(bsub_commands, '../tests/1.precall.sh')"
   ]
  }
 ],
 "metadata": {
  "kernelspec": {
   "display_name": "Python 3 (ipykernel)",
   "language": "python",
   "name": "python3"
  },
  "language_info": {
   "codemirror_mode": {
    "name": "ipython",
    "version": 3
   },
   "file_extension": ".py",
   "mimetype": "text/x-python",
   "name": "python",
   "nbconvert_exporter": "python",
   "pygments_lexer": "ipython3",
   "version": "3.8.0"
  }
 },
 "nbformat": 4,
 "nbformat_minor": 5
}
