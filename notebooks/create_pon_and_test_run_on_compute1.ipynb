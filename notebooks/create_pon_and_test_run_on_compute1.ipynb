{
 "cells": [
  {
   "cell_type": "code",
   "execution_count": 1,
   "id": "be87ff28",
   "metadata": {},
   "outputs": [],
   "source": [
    "import os\n",
    "import re\n",
    "import pandas as pd\n",
    "import yaml\n",
    "\n",
    "import wombat.bsub as bsub"
   ]
  },
  {
   "cell_type": "code",
   "execution_count": 2,
   "id": "f5cd3822",
   "metadata": {},
   "outputs": [],
   "source": [
    "# !pip install git+https://github.com/estorrs/wombat.git"
   ]
  },
  {
   "cell_type": "code",
   "execution_count": 3,
   "id": "06014b5b",
   "metadata": {},
   "outputs": [],
   "source": [
    "# !pip uninstall wombat -y"
   ]
  },
  {
   "cell_type": "markdown",
   "id": "33a15cac",
   "metadata": {},
   "source": [
    "###### grab data from cptac bammap"
   ]
  },
  {
   "cell_type": "code",
   "execution_count": 4,
   "id": "73c6c094",
   "metadata": {},
   "outputs": [
    {
     "data": {
      "text/html": [
       "<div>\n",
       "<style scoped>\n",
       "    .dataframe tbody tr th:only-of-type {\n",
       "        vertical-align: middle;\n",
       "    }\n",
       "\n",
       "    .dataframe tbody tr th {\n",
       "        vertical-align: top;\n",
       "    }\n",
       "\n",
       "    .dataframe thead th {\n",
       "        text-align: right;\n",
       "    }\n",
       "</style>\n",
       "<table border=\"1\" class=\"dataframe\">\n",
       "  <thead>\n",
       "    <tr style=\"text-align: right;\">\n",
       "      <th></th>\n",
       "      <th>case</th>\n",
       "      <th>disease</th>\n",
       "      <th>experimental_strategy</th>\n",
       "      <th>sample_type</th>\n",
       "      <th>data_path</th>\n",
       "      <th>filesize</th>\n",
       "      <th>data_format</th>\n",
       "      <th>reference</th>\n",
       "      <th>UUID</th>\n",
       "      <th>system</th>\n",
       "    </tr>\n",
       "    <tr>\n",
       "      <th># sample_name</th>\n",
       "      <th></th>\n",
       "      <th></th>\n",
       "      <th></th>\n",
       "      <th></th>\n",
       "      <th></th>\n",
       "      <th></th>\n",
       "      <th></th>\n",
       "      <th></th>\n",
       "      <th></th>\n",
       "      <th></th>\n",
       "    </tr>\n",
       "  </thead>\n",
       "  <tbody>\n",
       "    <tr>\n",
       "      <th>C3L-00081.WXS.N.hg38</th>\n",
       "      <td>C3L-00081</td>\n",
       "      <td>LSCC</td>\n",
       "      <td>WXS</td>\n",
       "      <td>blood_normal</td>\n",
       "      <td>/storage1/fs1/m.wyczalkowski/Active/Primary/CP...</td>\n",
       "      <td>39312702311</td>\n",
       "      <td>BAM</td>\n",
       "      <td>hg38</td>\n",
       "      <td>ec948c00-910b-4c7b-82a7-4d209d377116</td>\n",
       "      <td>storage1</td>\n",
       "    </tr>\n",
       "    <tr>\n",
       "      <th>C3L-00137.WXS.N.hg38</th>\n",
       "      <td>C3L-00137</td>\n",
       "      <td>UCEC</td>\n",
       "      <td>WXS</td>\n",
       "      <td>blood_normal</td>\n",
       "      <td>/storage1/fs1/m.wyczalkowski/Active/Primary/CP...</td>\n",
       "      <td>29560881189</td>\n",
       "      <td>BAM</td>\n",
       "      <td>hg38</td>\n",
       "      <td>d5a11391-8b84-4be2-8a8e-62d1e646b786</td>\n",
       "      <td>storage1</td>\n",
       "    </tr>\n",
       "    <tr>\n",
       "      <th>C3L-00938.WXS.N.hg38</th>\n",
       "      <td>C3L-00938</td>\n",
       "      <td>UCEC</td>\n",
       "      <td>WXS</td>\n",
       "      <td>blood_normal</td>\n",
       "      <td>/storage1/fs1/m.wyczalkowski/Active/Primary/CP...</td>\n",
       "      <td>41929157127</td>\n",
       "      <td>BAM</td>\n",
       "      <td>hg38</td>\n",
       "      <td>98c830a5-8735-4f5f-812d-3e7f7c3aa514</td>\n",
       "      <td>storage1</td>\n",
       "    </tr>\n",
       "    <tr>\n",
       "      <th>C3L-01039.WXS.N.BIOTEXT_kRQkDBr.hg38</th>\n",
       "      <td>C3L-01039</td>\n",
       "      <td>PDA</td>\n",
       "      <td>WXS</td>\n",
       "      <td>blood_normal</td>\n",
       "      <td>/storage1/fs1/m.wyczalkowski/Active/Primary/CP...</td>\n",
       "      <td>36998045601</td>\n",
       "      <td>BAM</td>\n",
       "      <td>hg38</td>\n",
       "      <td>3d9d35d6-5d4c-4585-bdd9-7fd46867519f</td>\n",
       "      <td>storage1</td>\n",
       "    </tr>\n",
       "    <tr>\n",
       "      <th>C3L-01232.WXS.N.hg38</th>\n",
       "      <td>C3L-01232</td>\n",
       "      <td>GBM</td>\n",
       "      <td>WXS</td>\n",
       "      <td>blood_normal</td>\n",
       "      <td>/storage1/fs1/m.wyczalkowski/Active/Primary/CP...</td>\n",
       "      <td>45532138913</td>\n",
       "      <td>BAM</td>\n",
       "      <td>hg38</td>\n",
       "      <td>a65f1db8-170a-4ec2-a20b-e6deff964e2c</td>\n",
       "      <td>storage1</td>\n",
       "    </tr>\n",
       "    <tr>\n",
       "      <th>...</th>\n",
       "      <td>...</td>\n",
       "      <td>...</td>\n",
       "      <td>...</td>\n",
       "      <td>...</td>\n",
       "      <td>...</td>\n",
       "      <td>...</td>\n",
       "      <td>...</td>\n",
       "      <td>...</td>\n",
       "      <td>...</td>\n",
       "      <td>...</td>\n",
       "    </tr>\n",
       "    <tr>\n",
       "      <th>C3N-04693.WXS.N.hg38</th>\n",
       "      <td>C3N-04693</td>\n",
       "      <td>GBM</td>\n",
       "      <td>WXS</td>\n",
       "      <td>blood_normal</td>\n",
       "      <td>/storage1/fs1/m.wyczalkowski/Active/Primary/CP...</td>\n",
       "      <td>40597818463</td>\n",
       "      <td>BAM</td>\n",
       "      <td>hg38</td>\n",
       "      <td>6fb6bf47-d501-4858-ba49-6e2cd516474a</td>\n",
       "      <td>storage1</td>\n",
       "    </tr>\n",
       "    <tr>\n",
       "      <th>C3N-04695.WXS.N.hg38</th>\n",
       "      <td>C3N-04695</td>\n",
       "      <td>GBM</td>\n",
       "      <td>WXS</td>\n",
       "      <td>blood_normal</td>\n",
       "      <td>/storage1/fs1/m.wyczalkowski/Active/Primary/CP...</td>\n",
       "      <td>32304960170</td>\n",
       "      <td>BAM</td>\n",
       "      <td>hg38</td>\n",
       "      <td>3bbdc094-e064-4c89-afec-bf59940cfe16</td>\n",
       "      <td>storage1</td>\n",
       "    </tr>\n",
       "    <tr>\n",
       "      <th>C3N-05039.WXS.N.hg38</th>\n",
       "      <td>C3N-05039</td>\n",
       "      <td>GBM</td>\n",
       "      <td>WXS</td>\n",
       "      <td>blood_normal</td>\n",
       "      <td>/storage1/fs1/m.wyczalkowski/Active/Primary/CP...</td>\n",
       "      <td>41040654784</td>\n",
       "      <td>BAM</td>\n",
       "      <td>hg38</td>\n",
       "      <td>b528bf8e-bae9-4d91-8d62-1746ba1a1ac0</td>\n",
       "      <td>storage1</td>\n",
       "    </tr>\n",
       "    <tr>\n",
       "      <th>C3N-05114.WXS.N.hg38</th>\n",
       "      <td>C3N-05114</td>\n",
       "      <td>GBM</td>\n",
       "      <td>WXS</td>\n",
       "      <td>blood_normal</td>\n",
       "      <td>/storage1/fs1/m.wyczalkowski/Active/Primary/CP...</td>\n",
       "      <td>34460031755</td>\n",
       "      <td>BAM</td>\n",
       "      <td>hg38</td>\n",
       "      <td>ec6ae616-4341-4d27-8a50-698388968128</td>\n",
       "      <td>storage1</td>\n",
       "    </tr>\n",
       "    <tr>\n",
       "      <th>C3N-05135.WXS.N.hg38</th>\n",
       "      <td>C3N-05135</td>\n",
       "      <td>GBM</td>\n",
       "      <td>WXS</td>\n",
       "      <td>blood_normal</td>\n",
       "      <td>/storage1/fs1/m.wyczalkowski/Active/Primary/CP...</td>\n",
       "      <td>34914215861</td>\n",
       "      <td>BAM</td>\n",
       "      <td>hg38</td>\n",
       "      <td>98ae81ee-90ef-4c56-8a69-5c5b73fecfec</td>\n",
       "      <td>storage1</td>\n",
       "    </tr>\n",
       "  </tbody>\n",
       "</table>\n",
       "<p>87 rows × 10 columns</p>\n",
       "</div>"
      ],
      "text/plain": [
       "                                           case disease experimental_strategy  \\\n",
       "# sample_name                                                                   \n",
       "C3L-00081.WXS.N.hg38                  C3L-00081    LSCC                   WXS   \n",
       "C3L-00137.WXS.N.hg38                  C3L-00137    UCEC                   WXS   \n",
       "C3L-00938.WXS.N.hg38                  C3L-00938    UCEC                   WXS   \n",
       "C3L-01039.WXS.N.BIOTEXT_kRQkDBr.hg38  C3L-01039     PDA                   WXS   \n",
       "C3L-01232.WXS.N.hg38                  C3L-01232     GBM                   WXS   \n",
       "...                                         ...     ...                   ...   \n",
       "C3N-04693.WXS.N.hg38                  C3N-04693     GBM                   WXS   \n",
       "C3N-04695.WXS.N.hg38                  C3N-04695     GBM                   WXS   \n",
       "C3N-05039.WXS.N.hg38                  C3N-05039     GBM                   WXS   \n",
       "C3N-05114.WXS.N.hg38                  C3N-05114     GBM                   WXS   \n",
       "C3N-05135.WXS.N.hg38                  C3N-05135     GBM                   WXS   \n",
       "\n",
       "                                       sample_type  \\\n",
       "# sample_name                                        \n",
       "C3L-00081.WXS.N.hg38                  blood_normal   \n",
       "C3L-00137.WXS.N.hg38                  blood_normal   \n",
       "C3L-00938.WXS.N.hg38                  blood_normal   \n",
       "C3L-01039.WXS.N.BIOTEXT_kRQkDBr.hg38  blood_normal   \n",
       "C3L-01232.WXS.N.hg38                  blood_normal   \n",
       "...                                            ...   \n",
       "C3N-04693.WXS.N.hg38                  blood_normal   \n",
       "C3N-04695.WXS.N.hg38                  blood_normal   \n",
       "C3N-05039.WXS.N.hg38                  blood_normal   \n",
       "C3N-05114.WXS.N.hg38                  blood_normal   \n",
       "C3N-05135.WXS.N.hg38                  blood_normal   \n",
       "\n",
       "                                                                              data_path  \\\n",
       "# sample_name                                                                             \n",
       "C3L-00081.WXS.N.hg38                  /storage1/fs1/m.wyczalkowski/Active/Primary/CP...   \n",
       "C3L-00137.WXS.N.hg38                  /storage1/fs1/m.wyczalkowski/Active/Primary/CP...   \n",
       "C3L-00938.WXS.N.hg38                  /storage1/fs1/m.wyczalkowski/Active/Primary/CP...   \n",
       "C3L-01039.WXS.N.BIOTEXT_kRQkDBr.hg38  /storage1/fs1/m.wyczalkowski/Active/Primary/CP...   \n",
       "C3L-01232.WXS.N.hg38                  /storage1/fs1/m.wyczalkowski/Active/Primary/CP...   \n",
       "...                                                                                 ...   \n",
       "C3N-04693.WXS.N.hg38                  /storage1/fs1/m.wyczalkowski/Active/Primary/CP...   \n",
       "C3N-04695.WXS.N.hg38                  /storage1/fs1/m.wyczalkowski/Active/Primary/CP...   \n",
       "C3N-05039.WXS.N.hg38                  /storage1/fs1/m.wyczalkowski/Active/Primary/CP...   \n",
       "C3N-05114.WXS.N.hg38                  /storage1/fs1/m.wyczalkowski/Active/Primary/CP...   \n",
       "C3N-05135.WXS.N.hg38                  /storage1/fs1/m.wyczalkowski/Active/Primary/CP...   \n",
       "\n",
       "                                         filesize data_format reference  \\\n",
       "# sample_name                                                             \n",
       "C3L-00081.WXS.N.hg38                  39312702311         BAM      hg38   \n",
       "C3L-00137.WXS.N.hg38                  29560881189         BAM      hg38   \n",
       "C3L-00938.WXS.N.hg38                  41929157127         BAM      hg38   \n",
       "C3L-01039.WXS.N.BIOTEXT_kRQkDBr.hg38  36998045601         BAM      hg38   \n",
       "C3L-01232.WXS.N.hg38                  45532138913         BAM      hg38   \n",
       "...                                           ...         ...       ...   \n",
       "C3N-04693.WXS.N.hg38                  40597818463         BAM      hg38   \n",
       "C3N-04695.WXS.N.hg38                  32304960170         BAM      hg38   \n",
       "C3N-05039.WXS.N.hg38                  41040654784         BAM      hg38   \n",
       "C3N-05114.WXS.N.hg38                  34460031755         BAM      hg38   \n",
       "C3N-05135.WXS.N.hg38                  34914215861         BAM      hg38   \n",
       "\n",
       "                                                                      UUID  \\\n",
       "# sample_name                                                                \n",
       "C3L-00081.WXS.N.hg38                  ec948c00-910b-4c7b-82a7-4d209d377116   \n",
       "C3L-00137.WXS.N.hg38                  d5a11391-8b84-4be2-8a8e-62d1e646b786   \n",
       "C3L-00938.WXS.N.hg38                  98c830a5-8735-4f5f-812d-3e7f7c3aa514   \n",
       "C3L-01039.WXS.N.BIOTEXT_kRQkDBr.hg38  3d9d35d6-5d4c-4585-bdd9-7fd46867519f   \n",
       "C3L-01232.WXS.N.hg38                  a65f1db8-170a-4ec2-a20b-e6deff964e2c   \n",
       "...                                                                    ...   \n",
       "C3N-04693.WXS.N.hg38                  6fb6bf47-d501-4858-ba49-6e2cd516474a   \n",
       "C3N-04695.WXS.N.hg38                  3bbdc094-e064-4c89-afec-bf59940cfe16   \n",
       "C3N-05039.WXS.N.hg38                  b528bf8e-bae9-4d91-8d62-1746ba1a1ac0   \n",
       "C3N-05114.WXS.N.hg38                  ec6ae616-4341-4d27-8a50-698388968128   \n",
       "C3N-05135.WXS.N.hg38                  98ae81ee-90ef-4c56-8a69-5c5b73fecfec   \n",
       "\n",
       "                                        system  \n",
       "# sample_name                                   \n",
       "C3L-00081.WXS.N.hg38                  storage1  \n",
       "C3L-00137.WXS.N.hg38                  storage1  \n",
       "C3L-00938.WXS.N.hg38                  storage1  \n",
       "C3L-01039.WXS.N.BIOTEXT_kRQkDBr.hg38  storage1  \n",
       "C3L-01232.WXS.N.hg38                  storage1  \n",
       "...                                        ...  \n",
       "C3N-04693.WXS.N.hg38                  storage1  \n",
       "C3N-04695.WXS.N.hg38                  storage1  \n",
       "C3N-05039.WXS.N.hg38                  storage1  \n",
       "C3N-05114.WXS.N.hg38                  storage1  \n",
       "C3N-05135.WXS.N.hg38                  storage1  \n",
       "\n",
       "[87 rows x 10 columns]"
      ]
     },
     "execution_count": 4,
     "metadata": {},
     "output_type": "execute_result"
    }
   ],
   "source": [
    "df = pd.read_csv('/home/estorrs/CPTAC3.catalog/BamMap/storage1.BamMap.dat', sep='\\t', index_col=0)\n",
    "df = df[df['experimental_strategy']=='WXS']\n",
    "df = df[df['sample_type']=='blood_normal']\n",
    "df = df[df['reference']=='hg38']\n",
    "df"
   ]
  },
  {
   "cell_type": "code",
   "execution_count": null,
   "id": "e02bb133",
   "metadata": {},
   "outputs": [],
   "source": []
  },
  {
   "cell_type": "markdown",
   "id": "6abfde5b",
   "metadata": {},
   "source": [
    "calls from https://github.com/ding-lab/GATK4SCNA"
   ]
  },
  {
   "cell_type": "code",
   "execution_count": null,
   "id": "3208f093",
   "metadata": {},
   "outputs": [],
   "source": []
  },
  {
   "cell_type": "code",
   "execution_count": 5,
   "id": "f1b03f43",
   "metadata": {},
   "outputs": [],
   "source": [
    "# GENOME=/storage1/fs1/dinglab/Active/Projects/austins2/references/GRCh38.d1.vd1/GRCh38.d1.vd1.fa\n",
    "# GENOME_DICT=/storage1/fs1/dinglab/Active/Projects/austins2/references/GRCh38.d1.vd1/GRCh38.d1.vd1.dict\n",
    "\n",
    "\n",
    "# # Target\n",
    "# TargetIntervalList=/code/db/IDT_xGen_Exome_Research_Panel_v1.hg38.removed_alt_chr.bed.target.preprocessed.exome.interval_list\n",
    "\n",
    "\n",
    "# # SNP database\n",
    "# COMMON_BIALLELIC=/code/db/snp_database/af-only-gnomad.hg38.common_biallelic.chr1-22XY.vcf\n",
    "\n",
    "\n",
    "# # protein coding genes\n",
    "# ProteinCodingGene=/code/db/remaking_protein-coding/gencode.v34.annotation.gene_filterd.need_gene_symbol.no_sym.filtered_to_hgnc_protein-coding_genes.bed\n"
   ]
  },
  {
   "cell_type": "code",
   "execution_count": 6,
   "id": "fe9bd85b",
   "metadata": {},
   "outputs": [],
   "source": [
    "genome = '/storage1/fs1/dinglab/Active/Projects/estorrs/pecgs_resources/cnv/references/GRCh38.d1.vd1/GRCh38.d1.vd1.fa'\n",
    "genome_dict = '/storage1/fs1/dinglab/Active/Projects/estorrs/pecgs_resources/cnv/references/GRCh38.d1.vd1/GRCh38.d1.vd1.dict'\n",
    "target_interval_list = '/storage1/fs1/dinglab/Active/Projects/estorrs/pecgs_resources/cnv/db/IDT_xGen_Exome_Research_Panel_v1.hg38.removed_alt_chr.bed.target.preprocessed.exome.interval_list'\n",
    "common_biallelic = '/storage1/fs1/dinglab/Active/Projects/estorrs/pecgs_resources/cnv/db/snp_database/af-only-gnomad.hg38.common_biallelic.chr1-22XY.vcf'\n",
    "protein_coding_gene = '/storage1/fs1/dinglab/Active/Projects/estorrs/pecgs_resources/cnv/db/remaking_protein-coding/gencode.v34.annotation.gene_filterd.need_gene_symbol.no_sym.filtered_to_hgnc_protein-coding_genes.bed'\n",
    "\n",
    "\n",
    "\n",
    "\n",
    "\n"
   ]
  },
  {
   "cell_type": "code",
   "execution_count": 7,
   "id": "0dea55e1",
   "metadata": {},
   "outputs": [],
   "source": [
    "pon_out_dir = '/storage1/fs1/dinglab/Active/Projects/estorrs/pecgs_resources/cnv/pon'"
   ]
  },
  {
   "cell_type": "code",
   "execution_count": 8,
   "id": "83a00a4e",
   "metadata": {},
   "outputs": [
    {
     "data": {
      "text/plain": [
       "{'mem': 28,\n",
       " 'max_mem': 28,\n",
       " 'docker': 'estorrs/pecgs_cnv:0.0.1',\n",
       " 'queue': 'dinglab',\n",
       " 'group': 'compute-dinglab',\n",
       " 'group_name': None,\n",
       " 'n_concurrent': 25,\n",
       " 'interactive': False,\n",
       " 'username': 'estorrs'}"
      ]
     },
     "execution_count": 8,
     "metadata": {},
     "output_type": "execute_result"
    }
   ],
   "source": [
    "args = bsub.DEFAULT_ARGS\n",
    "args['n_concurrent'] = 25\n",
    "args['mem'], args['max_mem'] = 28, 28\n",
    "args['docker'] = 'estorrs/pecgs_cnv:0.0.1'\n",
    "args"
   ]
  },
  {
   "cell_type": "markdown",
   "id": "a070c0c1",
   "metadata": {},
   "source": [
    "###### step 1: precall"
   ]
  },
  {
   "cell_type": "code",
   "execution_count": 9,
   "id": "673df8e3",
   "metadata": {},
   "outputs": [],
   "source": [
    "# bash /storage1/fs1/dinglab/Active/Projects/austins2/tools/GATK4SCNA/gatk_somatic.cnv.mgi.sh -p precall -t /storage1/fs1/dinglab/Active/Projects/austins2/HTAN-BRCA/CNV/gatk4scna/bam.list -M /storage1/fs1/dinglab/Active/Projects/austins2/HTAN-BRCA/CNV/gatk4scna/normalBam.list -o /storage1/fs1/dinglab/Active/Projects/austins2/HTAN-BRCA/CNV/gatk4scna -c /storage1/fs1/dinglab/Active/Projects/austins2/tools/GATK4SCNA/config/config.gatk4scna.mgi.ini\n",
    "\n",
    "# sh $submitJob 4 1 gatk4cn.s1.${name} \"bash $scriptDir/src/1.run.gatk4scna.collectReadCounts.Normal.sh -C ${config} -N ${caseID} -T Normal -B ${normalBam} -O ${outdir}\"\n",
    "\n",
    "\n"
   ]
  },
  {
   "cell_type": "code",
   "execution_count": 10,
   "id": "df73a74d",
   "metadata": {},
   "outputs": [],
   "source": [
    "# ${JAVA} -Dsamjdk.use_async_io_read_samtools=false \\\n",
    "#       -Dsamjdk.use_async_io_write_samtools=true \\\n",
    "#       -Dsamjdk.use_async_io_write_tribble=false \\\n",
    "#       -Dsamjdk.compression_level=2 \\\n",
    "#       -Xmx4g -jar ${GATK} CollectReadCounts \\\n",
    "#       -I ${BAM} \\\n",
    "#       -L ${TargetIntervalList} \\\n",
    "#       --interval-merging-rule OVERLAPPING_ONLY \\\n",
    "#       -O ${OUT}/${NAME}.N.counts.hdf5"
   ]
  },
  {
   "cell_type": "code",
   "execution_count": 11,
   "id": "c16f193b",
   "metadata": {},
   "outputs": [],
   "source": [
    "def get_precall_command(sample, normal_fp, out_dir):\n",
    "    pieces = [\n",
    "        'gatk CollectReadCounts',\n",
    "        '-I', normal_fp,\n",
    "        '-L', target_interval_list,\n",
    "        '-interval-merging-rule OVERLAPPING_ONLY',\n",
    "        f'-O {out_dir}/{sample}.N.counts.hdf5'\n",
    "    ]\n",
    "    cmd = ' '.join(pieces)\n",
    "    return cmd\n"
   ]
  },
  {
   "cell_type": "code",
   "execution_count": 12,
   "id": "639b7eae",
   "metadata": {},
   "outputs": [
    {
     "data": {
      "text/plain": [
       "['gatk CollectReadCounts -I /storage1/fs1/m.wyczalkowski/Active/Primary/CPTAC3.share/CPTAC3-GDC/GDC_import/data/ec948c00-910b-4c7b-82a7-4d209d377116/5e04faec-58e8-403f-942b-74e8c0053805_gdc_realn.bam -L /storage1/fs1/dinglab/Active/Projects/estorrs/pecgs_resources/cnv/db/IDT_xGen_Exome_Research_Panel_v1.hg38.removed_alt_chr.bed.target.preprocessed.exome.interval_list -interval-merging-rule OVERLAPPING_ONLY -O /storage1/fs1/dinglab/Active/Projects/estorrs/pecgs_resources/cnv/pon/precall/C3L-00081.N.counts.hdf5',\n",
       " 'gatk CollectReadCounts -I /storage1/fs1/m.wyczalkowski/Active/Primary/CPTAC3.share/CPTAC3-GDC/GDC_import/data/d5a11391-8b84-4be2-8a8e-62d1e646b786/552d7534-1fd1-490b-8751-9dff1bf55569_gdc_realn.bam -L /storage1/fs1/dinglab/Active/Projects/estorrs/pecgs_resources/cnv/db/IDT_xGen_Exome_Research_Panel_v1.hg38.removed_alt_chr.bed.target.preprocessed.exome.interval_list -interval-merging-rule OVERLAPPING_ONLY -O /storage1/fs1/dinglab/Active/Projects/estorrs/pecgs_resources/cnv/pon/precall/C3L-00137.N.counts.hdf5']"
      ]
     },
     "execution_count": 12,
     "metadata": {},
     "output_type": "execute_result"
    }
   ],
   "source": [
    "precall_out_dir = os.path.join(pon_out_dir, 'precall')\n",
    "cmds = []\n",
    "for i, row in df.iterrows():\n",
    "    cmd = get_precall_command(row['case'], row['data_path'], precall_out_dir)\n",
    "    cmds.append(cmd)\n",
    "cmds[:2]"
   ]
  },
  {
   "cell_type": "code",
   "execution_count": 14,
   "id": "a2e5018a",
   "metadata": {},
   "outputs": [
    {
     "name": "stdout",
     "output_type": "stream",
     "text": [
      "Failed to create log dir /storage1/fs1/dinglab/Active/Projects/estorrs/pecgs_resources/cnv/pon/precall/logs\n"
     ]
    },
    {
     "data": {
      "text/plain": [
       "['export LSF_DOCKER_VOLUMES=\"/storage1/fs1/m.wyczalkowski/Active:/storage1/fs1/m.wyczalkowski/Active /storage1/fs1/dinglab/Active:/storage1/fs1/dinglab/Active /storage1/fs1/dinglab/Active/Projects/estorrs/pecgs_resources/cnv/pon/precall/logs:/storage1/fs1/dinglab/Active/Projects/estorrs/pecgs_resources/cnv/pon/precall/logs\"',\n",
       " \"bsub -R 'rusage[mem=28GB]' -M 28GB -q dinglab -G compute-dinglab -a 'docker(estorrs/pecgs_cnv:0.0.1)' -oo /storage1/fs1/dinglab/Active/Projects/estorrs/pecgs_resources/cnv/pon/precall/logs/C3L-00081_precall.txt 'gatk CollectReadCounts -I /storage1/fs1/m.wyczalkowski/Active/Primary/CPTAC3.share/CPTAC3-GDC/GDC_import/data/ec948c00-910b-4c7b-82a7-4d209d377116/5e04faec-58e8-403f-942b-74e8c0053805_gdc_realn.bam -L /storage1/fs1/dinglab/Active/Projects/estorrs/pecgs_resources/cnv/db/IDT_xGen_Exome_Research_Panel_v1.hg38.removed_alt_chr.bed.target.preprocessed.exome.interval_list -interval-merging-rule OVERLAPPING_ONLY -O /storage1/fs1/dinglab/Active/Projects/estorrs/pecgs_resources/cnv/pon/precall/C3L-00081.N.counts.hdf5'\",\n",
       " \"bsub -R 'rusage[mem=28GB]' -M 28GB -q dinglab -G compute-dinglab -a 'docker(estorrs/pecgs_cnv:0.0.1)' -oo /storage1/fs1/dinglab/Active/Projects/estorrs/pecgs_resources/cnv/pon/precall/logs/C3L-00137_precall.txt 'gatk CollectReadCounts -I /storage1/fs1/m.wyczalkowski/Active/Primary/CPTAC3.share/CPTAC3-GDC/GDC_import/data/d5a11391-8b84-4be2-8a8e-62d1e646b786/552d7534-1fd1-490b-8751-9dff1bf55569_gdc_realn.bam -L /storage1/fs1/dinglab/Active/Projects/estorrs/pecgs_resources/cnv/db/IDT_xGen_Exome_Research_Panel_v1.hg38.removed_alt_chr.bed.target.preprocessed.exome.interval_list -interval-merging-rule OVERLAPPING_ONLY -O /storage1/fs1/dinglab/Active/Projects/estorrs/pecgs_resources/cnv/pon/precall/C3L-00137.N.counts.hdf5'\"]"
      ]
     },
     "execution_count": 14,
     "metadata": {},
     "output_type": "execute_result"
    }
   ],
   "source": [
    "job_names = [f'{s}_precall' for s in df['case']]\n",
    "volumes = ['/storage1/fs1/m.wyczalkowski/Active', '/storage1/fs1/dinglab/Active']\n",
    "bsub_commands = bsub.batch_bsub_commands(cmds, job_names, os.path.join(precall_out_dir, 'logs'), args, volumes=volumes)\n",
    "bsub_commands[:3]"
   ]
  },
  {
   "cell_type": "code",
   "execution_count": null,
   "id": "c8f417a7",
   "metadata": {},
   "outputs": [],
   "source": [
    "bsub.write_command_file(bsub_commands, '../tests/1.preca')"
   ]
  },
  {
   "cell_type": "code",
   "execution_count": null,
   "id": "c0685350",
   "metadata": {},
   "outputs": [],
   "source": []
  },
  {
   "cell_type": "code",
   "execution_count": null,
   "id": "9faea3b2",
   "metadata": {},
   "outputs": [],
   "source": []
  },
  {
   "cell_type": "code",
   "execution_count": null,
   "id": "84a422e8",
   "metadata": {},
   "outputs": [],
   "source": []
  },
  {
   "cell_type": "code",
   "execution_count": null,
   "id": "a70b2f8a",
   "metadata": {},
   "outputs": [],
   "source": []
  },
  {
   "cell_type": "code",
   "execution_count": null,
   "id": "3e2462f8",
   "metadata": {},
   "outputs": [],
   "source": []
  },
  {
   "cell_type": "code",
   "execution_count": null,
   "id": "2e3a27f6",
   "metadata": {},
   "outputs": [],
   "source": []
  }
 ],
 "metadata": {
  "kernelspec": {
   "display_name": "Python 3 (ipykernel)",
   "language": "python",
   "name": "python3"
  },
  "language_info": {
   "codemirror_mode": {
    "name": "ipython",
    "version": 3
   },
   "file_extension": ".py",
   "mimetype": "text/x-python",
   "name": "python",
   "nbconvert_exporter": "python",
   "pygments_lexer": "ipython3",
   "version": "3.8.0"
  }
 },
 "nbformat": 4,
 "nbformat_minor": 5
}
